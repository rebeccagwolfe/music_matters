{
 "cells": [
  {
   "cell_type": "code",
   "execution_count": 1,
   "id": "d7d95fba",
   "metadata": {},
   "outputs": [],
   "source": [
    "import requests\n",
    "import json\n",
    "import numpy as np\n",
    "import pandas as pd\n",
    "import time\n",
    "\n",
    "with open('api_key.json') as fi:\n",
    "    credentials = json.load(fi)\n",
    "    \n",
    "api_key = credentials['api_key']"
   ]
  },
  {
   "cell_type": "markdown",
   "id": "d2bde7de",
   "metadata": {},
   "source": [
    "# EDA Notebook to look at data in every API response option:\n",
    "\n",
    "\n",
    "- /1.0/artist/{mbid} - (a)\n",
    " \n",
    "- /1.0/artist/{mbid}/setlists - (b)\n",
    "\n",
    "\n",
    "- /1.0/city/{geoId} - (c)\n",
    " \n",
    "- /1.0/search/artists - (d)\n",
    " \n",
    "- /1.0/search/cities - (e)\n",
    " \n",
    "- /1.0/search/countries - (f)\n",
    " \n",
    "- /1.0/search/setlists - (g)\n",
    " \n",
    "- /1.0/search/venues - (h)\n",
    " \n",
    "- /1.0/setlist/{setlistId} (i)\n",
    "\n",
    "- /1.0/setlist/version/{versionId} - (j)\n",
    " \n",
    "- /1.0/setlist/{setlistId} - (k)\n",
    " \n",
    "- /1.0/user/{userId} - (l)\n",
    " \n",
    "- /1.0/user/{userId}/attended - (m)\n",
    " \n",
    "- /1.0/user/{userId}/edited - (n)\n",
    " \n",
    "- /1.0/venue/{venueId} - (o)\n",
    " \n",
    "- /1.0/venue/{venueId}/setlists - (p)\n",
    "\n"
   ]
  },
  {
   "cell_type": "markdown",
   "id": "c02a5d00",
   "metadata": {},
   "source": [
    "# b\n",
    "\n",
    "### /1.0/artist/{mbid}/setlists"
   ]
  },
  {
   "cell_type": "code",
   "execution_count": 2,
   "id": "e2625d67",
   "metadata": {},
   "outputs": [
    {
     "name": "stdout",
     "output_type": "stream",
     "text": [
      "<Response [200]>\n"
     ]
    },
    {
     "data": {
      "text/html": [
       "<div>\n",
       "<style scoped>\n",
       "    .dataframe tbody tr th:only-of-type {\n",
       "        vertical-align: middle;\n",
       "    }\n",
       "\n",
       "    .dataframe tbody tr th {\n",
       "        vertical-align: top;\n",
       "    }\n",
       "\n",
       "    .dataframe thead th {\n",
       "        text-align: right;\n",
       "    }\n",
       "</style>\n",
       "<table border=\"1\" class=\"dataframe\">\n",
       "  <thead>\n",
       "    <tr style=\"text-align: right;\">\n",
       "      <th></th>\n",
       "      <th>type</th>\n",
       "      <th>itemsPerPage</th>\n",
       "      <th>page</th>\n",
       "      <th>total</th>\n",
       "      <th>setlist</th>\n",
       "    </tr>\n",
       "  </thead>\n",
       "  <tbody>\n",
       "    <tr>\n",
       "      <th>0</th>\n",
       "      <td>setlists</td>\n",
       "      <td>20</td>\n",
       "      <td>1</td>\n",
       "      <td>1466</td>\n",
       "      <td>{'id': '53d6f3ad', 'versionId': 'g53c29b9d', '...</td>\n",
       "    </tr>\n",
       "    <tr>\n",
       "      <th>1</th>\n",
       "      <td>setlists</td>\n",
       "      <td>20</td>\n",
       "      <td>1</td>\n",
       "      <td>1466</td>\n",
       "      <td>{'id': '73c18a19', 'versionId': '13367d11', 'e...</td>\n",
       "    </tr>\n",
       "    <tr>\n",
       "      <th>2</th>\n",
       "      <td>setlists</td>\n",
       "      <td>20</td>\n",
       "      <td>1</td>\n",
       "      <td>1466</td>\n",
       "      <td>{'id': '43c26b8b', 'versionId': 'g2bc1485a', '...</td>\n",
       "    </tr>\n",
       "    <tr>\n",
       "      <th>3</th>\n",
       "      <td>setlists</td>\n",
       "      <td>20</td>\n",
       "      <td>1</td>\n",
       "      <td>1466</td>\n",
       "      <td>{'id': 'bf88dc2', 'versionId': '1b3bcd80', 'ev...</td>\n",
       "    </tr>\n",
       "    <tr>\n",
       "      <th>4</th>\n",
       "      <td>setlists</td>\n",
       "      <td>20</td>\n",
       "      <td>1</td>\n",
       "      <td>1466</td>\n",
       "      <td>{'id': '73d67e09', 'versionId': '7b069680', 'e...</td>\n",
       "    </tr>\n",
       "  </tbody>\n",
       "</table>\n",
       "</div>"
      ],
      "text/plain": [
       "       type  itemsPerPage  page  total  \\\n",
       "0  setlists            20     1   1466   \n",
       "1  setlists            20     1   1466   \n",
       "2  setlists            20     1   1466   \n",
       "3  setlists            20     1   1466   \n",
       "4  setlists            20     1   1466   \n",
       "\n",
       "                                             setlist  \n",
       "0  {'id': '53d6f3ad', 'versionId': 'g53c29b9d', '...  \n",
       "1  {'id': '73c18a19', 'versionId': '13367d11', 'e...  \n",
       "2  {'id': '43c26b8b', 'versionId': 'g2bc1485a', '...  \n",
       "3  {'id': 'bf88dc2', 'versionId': '1b3bcd80', 'ev...  \n",
       "4  {'id': '73d67e09', 'versionId': '7b069680', 'e...  "
      ]
     },
     "execution_count": 2,
     "metadata": {},
     "output_type": "execute_result"
    }
   ],
   "source": [
    "header={\n",
    "    \"Accept\":\"application/json\", \n",
    "    \"x-api-key\":api_key\n",
    "}\n",
    "\n",
    "\n",
    "b=requests.get(\"https://api.setlist.fm/rest/1.0/artist/b10bbbfc-cf9e-42e0-be17-e2c3e1d2600d/setlists?p=1\", headers=header)\n",
    "print(b)\n",
    "\n",
    "b_df=pd.DataFrame(b.json())\n",
    "b_df.head()"
   ]
  },
  {
   "cell_type": "code",
   "execution_count": 3,
   "id": "54576407",
   "metadata": {},
   "outputs": [
    {
     "data": {
      "text/html": [
       "<div>\n",
       "<style scoped>\n",
       "    .dataframe tbody tr th:only-of-type {\n",
       "        vertical-align: middle;\n",
       "    }\n",
       "\n",
       "    .dataframe tbody tr th {\n",
       "        vertical-align: top;\n",
       "    }\n",
       "\n",
       "    .dataframe thead th {\n",
       "        text-align: right;\n",
       "    }\n",
       "</style>\n",
       "<table border=\"1\" class=\"dataframe\">\n",
       "  <thead>\n",
       "    <tr style=\"text-align: right;\">\n",
       "      <th></th>\n",
       "      <th>id</th>\n",
       "      <th>versionId</th>\n",
       "      <th>eventDate</th>\n",
       "      <th>lastUpdated</th>\n",
       "      <th>artist</th>\n",
       "      <th>venue</th>\n",
       "      <th>sets</th>\n",
       "      <th>info</th>\n",
       "      <th>url</th>\n",
       "      <th>tour</th>\n",
       "    </tr>\n",
       "  </thead>\n",
       "  <tbody>\n",
       "    <tr>\n",
       "      <th>0</th>\n",
       "      <td>53d6f3ad</td>\n",
       "      <td>g53c29b9d</td>\n",
       "      <td>30-01-1969</td>\n",
       "      <td>2021-12-14T08:26:08.000+0000</td>\n",
       "      <td>{'mbid': 'b10bbbfc-cf9e-42e0-be17-e2c3e1d2600d...</td>\n",
       "      <td>{'id': '4bd627fe', 'name': 'Apple Corps Roofto...</td>\n",
       "      <td>{'set': [{'song': [{'name': 'Get Back'}, {'nam...</td>\n",
       "      <td>The Beatles' last public performance. Band pla...</td>\n",
       "      <td>https://www.setlist.fm/setlist/the-beatles/196...</td>\n",
       "      <td>NaN</td>\n",
       "    </tr>\n",
       "    <tr>\n",
       "      <th>1</th>\n",
       "      <td>73c18a19</td>\n",
       "      <td>13367d11</td>\n",
       "      <td>04-09-1968</td>\n",
       "      <td>2020-01-17T01:22:37.000+0000</td>\n",
       "      <td>{'mbid': 'b10bbbfc-cf9e-42e0-be17-e2c3e1d2600d...</td>\n",
       "      <td>{'id': '4bd5973e', 'name': 'Twickenham Studios...</td>\n",
       "      <td>{'set': [{'name': '\"Hey Jude\" film sessions', ...</td>\n",
       "      <td>Broadcast on September 8th 1968</td>\n",
       "      <td>https://www.setlist.fm/setlist/the-beatles/196...</td>\n",
       "      <td>NaN</td>\n",
       "    </tr>\n",
       "    <tr>\n",
       "      <th>2</th>\n",
       "      <td>43c26b8b</td>\n",
       "      <td>g2bc1485a</td>\n",
       "      <td>25-06-1967</td>\n",
       "      <td>2022-02-24T08:01:13.000+0000</td>\n",
       "      <td>{'mbid': 'b10bbbfc-cf9e-42e0-be17-e2c3e1d2600d...</td>\n",
       "      <td>{'id': '43d207b3', 'name': 'EMI Recording Stud...</td>\n",
       "      <td>{'set': [{'song': [{'name': 'All You Need Is L...</td>\n",
       "      <td>Representing the UK on 'Our World’ the first l...</td>\n",
       "      <td>https://www.setlist.fm/setlist/the-beatles/196...</td>\n",
       "      <td>NaN</td>\n",
       "    </tr>\n",
       "    <tr>\n",
       "      <th>3</th>\n",
       "      <td>bf88dc2</td>\n",
       "      <td>1b3bcd80</td>\n",
       "      <td>24-06-1967</td>\n",
       "      <td>2020-06-02T08:45:06.000+0000</td>\n",
       "      <td>{'mbid': 'b10bbbfc-cf9e-42e0-be17-e2c3e1d2600d...</td>\n",
       "      <td>{'id': '43d207b3', 'name': 'EMI Recording Stud...</td>\n",
       "      <td>{'set': [{'song': [{'name': 'All You Need Is L...</td>\n",
       "      <td>Open-door rehearsal for the press.</td>\n",
       "      <td>https://www.setlist.fm/setlist/the-beatles/196...</td>\n",
       "      <td>NaN</td>\n",
       "    </tr>\n",
       "    <tr>\n",
       "      <th>4</th>\n",
       "      <td>73d67e09</td>\n",
       "      <td>7b069680</td>\n",
       "      <td>29-08-1966</td>\n",
       "      <td>2019-07-10T19:44:01.000+0000</td>\n",
       "      <td>{'mbid': 'b10bbbfc-cf9e-42e0-be17-e2c3e1d2600d...</td>\n",
       "      <td>{'id': '3bd624d4', 'name': 'Candlestick Park',...</td>\n",
       "      <td>{'set': [{'song': [{'name': 'Rock and Roll Mus...</td>\n",
       "      <td>Last public performance until 1969</td>\n",
       "      <td>https://www.setlist.fm/setlist/the-beatles/196...</td>\n",
       "      <td>{'name': 'North American Tour 1966'}</td>\n",
       "    </tr>\n",
       "  </tbody>\n",
       "</table>\n",
       "</div>"
      ],
      "text/plain": [
       "         id  versionId   eventDate                   lastUpdated  \\\n",
       "0  53d6f3ad  g53c29b9d  30-01-1969  2021-12-14T08:26:08.000+0000   \n",
       "1  73c18a19   13367d11  04-09-1968  2020-01-17T01:22:37.000+0000   \n",
       "2  43c26b8b  g2bc1485a  25-06-1967  2022-02-24T08:01:13.000+0000   \n",
       "3   bf88dc2   1b3bcd80  24-06-1967  2020-06-02T08:45:06.000+0000   \n",
       "4  73d67e09   7b069680  29-08-1966  2019-07-10T19:44:01.000+0000   \n",
       "\n",
       "                                              artist  \\\n",
       "0  {'mbid': 'b10bbbfc-cf9e-42e0-be17-e2c3e1d2600d...   \n",
       "1  {'mbid': 'b10bbbfc-cf9e-42e0-be17-e2c3e1d2600d...   \n",
       "2  {'mbid': 'b10bbbfc-cf9e-42e0-be17-e2c3e1d2600d...   \n",
       "3  {'mbid': 'b10bbbfc-cf9e-42e0-be17-e2c3e1d2600d...   \n",
       "4  {'mbid': 'b10bbbfc-cf9e-42e0-be17-e2c3e1d2600d...   \n",
       "\n",
       "                                               venue  \\\n",
       "0  {'id': '4bd627fe', 'name': 'Apple Corps Roofto...   \n",
       "1  {'id': '4bd5973e', 'name': 'Twickenham Studios...   \n",
       "2  {'id': '43d207b3', 'name': 'EMI Recording Stud...   \n",
       "3  {'id': '43d207b3', 'name': 'EMI Recording Stud...   \n",
       "4  {'id': '3bd624d4', 'name': 'Candlestick Park',...   \n",
       "\n",
       "                                                sets  \\\n",
       "0  {'set': [{'song': [{'name': 'Get Back'}, {'nam...   \n",
       "1  {'set': [{'name': '\"Hey Jude\" film sessions', ...   \n",
       "2  {'set': [{'song': [{'name': 'All You Need Is L...   \n",
       "3  {'set': [{'song': [{'name': 'All You Need Is L...   \n",
       "4  {'set': [{'song': [{'name': 'Rock and Roll Mus...   \n",
       "\n",
       "                                                info  \\\n",
       "0  The Beatles' last public performance. Band pla...   \n",
       "1                    Broadcast on September 8th 1968   \n",
       "2  Representing the UK on 'Our World’ the first l...   \n",
       "3                 Open-door rehearsal for the press.   \n",
       "4                 Last public performance until 1969   \n",
       "\n",
       "                                                 url  \\\n",
       "0  https://www.setlist.fm/setlist/the-beatles/196...   \n",
       "1  https://www.setlist.fm/setlist/the-beatles/196...   \n",
       "2  https://www.setlist.fm/setlist/the-beatles/196...   \n",
       "3  https://www.setlist.fm/setlist/the-beatles/196...   \n",
       "4  https://www.setlist.fm/setlist/the-beatles/196...   \n",
       "\n",
       "                                   tour  \n",
       "0                                   NaN  \n",
       "1                                   NaN  \n",
       "2                                   NaN  \n",
       "3                                   NaN  \n",
       "4  {'name': 'North American Tour 1966'}  "
      ]
     },
     "execution_count": 3,
     "metadata": {},
     "output_type": "execute_result"
    }
   ],
   "source": [
    "b_setlist_df = b_df['setlist'].apply(pd.Series)\n",
    "b_setlist_df.head()"
   ]
  },
  {
   "cell_type": "code",
   "execution_count": 12,
   "id": "a31cae2f",
   "metadata": {},
   "outputs": [
    {
     "data": {
      "text/html": [
       "<div>\n",
       "<style scoped>\n",
       "    .dataframe tbody tr th:only-of-type {\n",
       "        vertical-align: middle;\n",
       "    }\n",
       "\n",
       "    .dataframe tbody tr th {\n",
       "        vertical-align: top;\n",
       "    }\n",
       "\n",
       "    .dataframe thead th {\n",
       "        text-align: right;\n",
       "    }\n",
       "</style>\n",
       "<table border=\"1\" class=\"dataframe\">\n",
       "  <thead>\n",
       "    <tr style=\"text-align: right;\">\n",
       "      <th></th>\n",
       "      <th>set</th>\n",
       "    </tr>\n",
       "  </thead>\n",
       "  <tbody>\n",
       "    <tr>\n",
       "      <th>0</th>\n",
       "      <td>[{'song': [{'name': 'Get Back'}, {'name': 'Get...</td>\n",
       "    </tr>\n",
       "    <tr>\n",
       "      <th>1</th>\n",
       "      <td>[{'name': '\"Hey Jude\" film sessions', 'song': ...</td>\n",
       "    </tr>\n",
       "    <tr>\n",
       "      <th>2</th>\n",
       "      <td>[{'song': [{'name': 'All You Need Is Love'}]}]</td>\n",
       "    </tr>\n",
       "    <tr>\n",
       "      <th>3</th>\n",
       "      <td>[{'song': [{'name': 'All You Need Is Love', 'i...</td>\n",
       "    </tr>\n",
       "    <tr>\n",
       "      <th>4</th>\n",
       "      <td>[{'song': [{'name': 'Rock and Roll Music', 'co...</td>\n",
       "    </tr>\n",
       "  </tbody>\n",
       "</table>\n",
       "</div>"
      ],
      "text/plain": [
       "                                                 set\n",
       "0  [{'song': [{'name': 'Get Back'}, {'name': 'Get...\n",
       "1  [{'name': '\"Hey Jude\" film sessions', 'song': ...\n",
       "2     [{'song': [{'name': 'All You Need Is Love'}]}]\n",
       "3  [{'song': [{'name': 'All You Need Is Love', 'i...\n",
       "4  [{'song': [{'name': 'Rock and Roll Music', 'co..."
      ]
     },
     "execution_count": 12,
     "metadata": {},
     "output_type": "execute_result"
    }
   ],
   "source": [
    "b_sets_df = b_setlist_df['sets'].apply(pd.Series)\n",
    "b_sets_df.head()"
   ]
  },
  {
   "cell_type": "code",
   "execution_count": 13,
   "id": "0e85056c",
   "metadata": {},
   "outputs": [
    {
     "data": {
      "text/html": [
       "<div>\n",
       "<style scoped>\n",
       "    .dataframe tbody tr th:only-of-type {\n",
       "        vertical-align: middle;\n",
       "    }\n",
       "\n",
       "    .dataframe tbody tr th {\n",
       "        vertical-align: top;\n",
       "    }\n",
       "\n",
       "    .dataframe thead th {\n",
       "        text-align: right;\n",
       "    }\n",
       "</style>\n",
       "<table border=\"1\" class=\"dataframe\">\n",
       "  <thead>\n",
       "    <tr style=\"text-align: right;\">\n",
       "      <th></th>\n",
       "      <th>0</th>\n",
       "      <th>1</th>\n",
       "    </tr>\n",
       "  </thead>\n",
       "  <tbody>\n",
       "    <tr>\n",
       "      <th>0</th>\n",
       "      <td>{'song': [{'name': 'Get Back'}, {'name': 'Get ...</td>\n",
       "      <td>NaN</td>\n",
       "    </tr>\n",
       "    <tr>\n",
       "      <th>1</th>\n",
       "      <td>{'name': '\"Hey Jude\" film sessions', 'song': [...</td>\n",
       "      <td>{'name': '\"Revolution\" film sessions', 'song':...</td>\n",
       "    </tr>\n",
       "    <tr>\n",
       "      <th>2</th>\n",
       "      <td>{'song': [{'name': 'All You Need Is Love'}]}</td>\n",
       "      <td>NaN</td>\n",
       "    </tr>\n",
       "    <tr>\n",
       "      <th>3</th>\n",
       "      <td>{'song': [{'name': 'All You Need Is Love', 'in...</td>\n",
       "      <td>NaN</td>\n",
       "    </tr>\n",
       "    <tr>\n",
       "      <th>4</th>\n",
       "      <td>{'song': [{'name': 'Rock and Roll Music', 'cov...</td>\n",
       "      <td>NaN</td>\n",
       "    </tr>\n",
       "  </tbody>\n",
       "</table>\n",
       "</div>"
      ],
      "text/plain": [
       "                                                   0  \\\n",
       "0  {'song': [{'name': 'Get Back'}, {'name': 'Get ...   \n",
       "1  {'name': '\"Hey Jude\" film sessions', 'song': [...   \n",
       "2       {'song': [{'name': 'All You Need Is Love'}]}   \n",
       "3  {'song': [{'name': 'All You Need Is Love', 'in...   \n",
       "4  {'song': [{'name': 'Rock and Roll Music', 'cov...   \n",
       "\n",
       "                                                   1  \n",
       "0                                                NaN  \n",
       "1  {'name': '\"Revolution\" film sessions', 'song':...  \n",
       "2                                                NaN  \n",
       "3                                                NaN  \n",
       "4                                                NaN  "
      ]
     },
     "execution_count": 13,
     "metadata": {},
     "output_type": "execute_result"
    }
   ],
   "source": [
    "b_set_df = b_sets_df['set'].apply(pd.Series)\n",
    "b_set_df.head()"
   ]
  },
  {
   "cell_type": "code",
   "execution_count": null,
   "id": "50cc3a5f",
   "metadata": {},
   "outputs": [],
   "source": [
    "from collections import defaultdict\n",
    "b = defaultdict(list)\n",
    "for animal in a:\n",
    "    for key, val in animal.items():\n",
    "        b[key].append(val)\n",
    "print(b)"
   ]
  },
  {
   "cell_type": "code",
   "execution_count": 18,
   "id": "c6be8f93",
   "metadata": {},
   "outputs": [
    {
     "data": {
      "text/plain": [
       "0     {'song': [{'name': 'Get Back'}, {'name': 'Get ...\n",
       "1     {'name': '\"Hey Jude\" film sessions', 'song': [...\n",
       "2          {'song': [{'name': 'All You Need Is Love'}]}\n",
       "3     {'song': [{'name': 'All You Need Is Love', 'in...\n",
       "4     {'song': [{'name': 'Rock and Roll Music', 'cov...\n",
       "5     {'song': [{'name': 'Rock and Roll Music', 'cov...\n",
       "6     {'song': [{'name': 'Rock and Roll Music', 'cov...\n",
       "7     {'song': [{'name': 'Rock and Roll Music', 'cov...\n",
       "8     {'song': [{'name': 'Rock and Roll Music', 'cov...\n",
       "9     {'song': [{'name': 'Rock and Roll Music', 'cov...\n",
       "10    {'song': [{'name': 'Rock and Roll Music', 'cov...\n",
       "11    {'song': [{'name': 'Rock and Roll Music', 'cov...\n",
       "12    {'song': [{'name': 'Rock and Roll Music', 'cov...\n",
       "13    {'song': [{'name': 'Rock and Roll Music', 'cov...\n",
       "14    {'song': [{'name': 'Rock and Roll Music', 'cov...\n",
       "15    {'song': [{'name': 'Rock and Roll Music', 'cov...\n",
       "16    {'song': [{'name': 'Rock and Roll Music', 'cov...\n",
       "17    {'song': [{'name': 'Rock and Roll Music', 'cov...\n",
       "18    {'song': [{'name': 'Rock and Roll Music', 'cov...\n",
       "19    {'song': [{'name': 'Rock and Roll Music', 'cov...\n",
       "Name: 0, dtype: object"
      ]
     },
     "execution_count": 18,
     "metadata": {},
     "output_type": "execute_result"
    }
   ],
   "source": [
    "b_set_df[0]"
   ]
  },
  {
   "cell_type": "code",
   "execution_count": 20,
   "id": "3e64a17e",
   "metadata": {},
   "outputs": [
    {
     "data": {
      "text/html": [
       "<div>\n",
       "<style scoped>\n",
       "    .dataframe tbody tr th:only-of-type {\n",
       "        vertical-align: middle;\n",
       "    }\n",
       "\n",
       "    .dataframe tbody tr th {\n",
       "        vertical-align: top;\n",
       "    }\n",
       "\n",
       "    .dataframe thead th {\n",
       "        text-align: right;\n",
       "    }\n",
       "</style>\n",
       "<table border=\"1\" class=\"dataframe\">\n",
       "  <thead>\n",
       "    <tr style=\"text-align: right;\">\n",
       "      <th></th>\n",
       "      <th>0</th>\n",
       "      <th>1</th>\n",
       "      <th>2</th>\n",
       "      <th>3</th>\n",
       "      <th>4</th>\n",
       "      <th>5</th>\n",
       "      <th>6</th>\n",
       "      <th>7</th>\n",
       "      <th>8</th>\n",
       "      <th>9</th>\n",
       "      <th>10</th>\n",
       "      <th>11</th>\n",
       "      <th>12</th>\n",
       "      <th>13</th>\n",
       "      <th>14</th>\n",
       "      <th>15</th>\n",
       "      <th>16</th>\n",
       "      <th>17</th>\n",
       "      <th>18</th>\n",
       "      <th>19</th>\n",
       "    </tr>\n",
       "  </thead>\n",
       "  <tbody>\n",
       "    <tr>\n",
       "      <th>0</th>\n",
       "      <td>{'song': [{'name': 'Get Back'}, {'name': 'Get ...</td>\n",
       "      <td>{'name': '\"Hey Jude\" film sessions', 'song': [...</td>\n",
       "      <td>{'song': [{'name': 'All You Need Is Love'}]}</td>\n",
       "      <td>{'song': [{'name': 'All You Need Is Love', 'in...</td>\n",
       "      <td>{'song': [{'name': 'Rock and Roll Music', 'cov...</td>\n",
       "      <td>{'song': [{'name': 'Rock and Roll Music', 'cov...</td>\n",
       "      <td>{'song': [{'name': 'Rock and Roll Music', 'cov...</td>\n",
       "      <td>{'song': [{'name': 'Rock and Roll Music', 'cov...</td>\n",
       "      <td>{'song': [{'name': 'Rock and Roll Music', 'cov...</td>\n",
       "      <td>{'song': [{'name': 'Rock and Roll Music', 'cov...</td>\n",
       "      <td>{'song': [{'name': 'Rock and Roll Music', 'cov...</td>\n",
       "      <td>{'song': [{'name': 'Rock and Roll Music', 'cov...</td>\n",
       "      <td>{'song': [{'name': 'Rock and Roll Music', 'cov...</td>\n",
       "      <td>{'song': [{'name': 'Rock and Roll Music', 'cov...</td>\n",
       "      <td>{'song': [{'name': 'Rock and Roll Music', 'cov...</td>\n",
       "      <td>{'song': [{'name': 'Rock and Roll Music', 'cov...</td>\n",
       "      <td>{'song': [{'name': 'Rock and Roll Music', 'cov...</td>\n",
       "      <td>{'song': [{'name': 'Rock and Roll Music', 'cov...</td>\n",
       "      <td>{'song': [{'name': 'Rock and Roll Music', 'cov...</td>\n",
       "      <td>{'song': [{'name': 'Rock and Roll Music', 'cov...</td>\n",
       "    </tr>\n",
       "    <tr>\n",
       "      <th>1</th>\n",
       "      <td>NaN</td>\n",
       "      <td>{'name': '\"Revolution\" film sessions', 'song':...</td>\n",
       "      <td>NaN</td>\n",
       "      <td>NaN</td>\n",
       "      <td>NaN</td>\n",
       "      <td>NaN</td>\n",
       "      <td>NaN</td>\n",
       "      <td>NaN</td>\n",
       "      <td>NaN</td>\n",
       "      <td>NaN</td>\n",
       "      <td>NaN</td>\n",
       "      <td>NaN</td>\n",
       "      <td>NaN</td>\n",
       "      <td>NaN</td>\n",
       "      <td>NaN</td>\n",
       "      <td>NaN</td>\n",
       "      <td>NaN</td>\n",
       "      <td>NaN</td>\n",
       "      <td>NaN</td>\n",
       "      <td>NaN</td>\n",
       "    </tr>\n",
       "  </tbody>\n",
       "</table>\n",
       "</div>"
      ],
      "text/plain": [
       "                                                  0   \\\n",
       "0  {'song': [{'name': 'Get Back'}, {'name': 'Get ...   \n",
       "1                                                NaN   \n",
       "\n",
       "                                                  1   \\\n",
       "0  {'name': '\"Hey Jude\" film sessions', 'song': [...   \n",
       "1  {'name': '\"Revolution\" film sessions', 'song':...   \n",
       "\n",
       "                                             2   \\\n",
       "0  {'song': [{'name': 'All You Need Is Love'}]}   \n",
       "1                                           NaN   \n",
       "\n",
       "                                                  3   \\\n",
       "0  {'song': [{'name': 'All You Need Is Love', 'in...   \n",
       "1                                                NaN   \n",
       "\n",
       "                                                  4   \\\n",
       "0  {'song': [{'name': 'Rock and Roll Music', 'cov...   \n",
       "1                                                NaN   \n",
       "\n",
       "                                                  5   \\\n",
       "0  {'song': [{'name': 'Rock and Roll Music', 'cov...   \n",
       "1                                                NaN   \n",
       "\n",
       "                                                  6   \\\n",
       "0  {'song': [{'name': 'Rock and Roll Music', 'cov...   \n",
       "1                                                NaN   \n",
       "\n",
       "                                                  7   \\\n",
       "0  {'song': [{'name': 'Rock and Roll Music', 'cov...   \n",
       "1                                                NaN   \n",
       "\n",
       "                                                  8   \\\n",
       "0  {'song': [{'name': 'Rock and Roll Music', 'cov...   \n",
       "1                                                NaN   \n",
       "\n",
       "                                                  9   \\\n",
       "0  {'song': [{'name': 'Rock and Roll Music', 'cov...   \n",
       "1                                                NaN   \n",
       "\n",
       "                                                  10  \\\n",
       "0  {'song': [{'name': 'Rock and Roll Music', 'cov...   \n",
       "1                                                NaN   \n",
       "\n",
       "                                                  11  \\\n",
       "0  {'song': [{'name': 'Rock and Roll Music', 'cov...   \n",
       "1                                                NaN   \n",
       "\n",
       "                                                  12  \\\n",
       "0  {'song': [{'name': 'Rock and Roll Music', 'cov...   \n",
       "1                                                NaN   \n",
       "\n",
       "                                                  13  \\\n",
       "0  {'song': [{'name': 'Rock and Roll Music', 'cov...   \n",
       "1                                                NaN   \n",
       "\n",
       "                                                  14  \\\n",
       "0  {'song': [{'name': 'Rock and Roll Music', 'cov...   \n",
       "1                                                NaN   \n",
       "\n",
       "                                                  15  \\\n",
       "0  {'song': [{'name': 'Rock and Roll Music', 'cov...   \n",
       "1                                                NaN   \n",
       "\n",
       "                                                  16  \\\n",
       "0  {'song': [{'name': 'Rock and Roll Music', 'cov...   \n",
       "1                                                NaN   \n",
       "\n",
       "                                                  17  \\\n",
       "0  {'song': [{'name': 'Rock and Roll Music', 'cov...   \n",
       "1                                                NaN   \n",
       "\n",
       "                                                  18  \\\n",
       "0  {'song': [{'name': 'Rock and Roll Music', 'cov...   \n",
       "1                                                NaN   \n",
       "\n",
       "                                                  19  \n",
       "0  {'song': [{'name': 'Rock and Roll Music', 'cov...  \n",
       "1                                                NaN  "
      ]
     },
     "execution_count": 20,
     "metadata": {},
     "output_type": "execute_result"
    }
   ],
   "source": [
    "b_test = b_set_df.T\n",
    "b_test"
   ]
  },
  {
   "cell_type": "code",
   "execution_count": 6,
   "id": "61af732b",
   "metadata": {},
   "outputs": [
    {
     "ename": "NameError",
     "evalue": "name 'b_sets_df' is not defined",
     "output_type": "error",
     "traceback": [
      "\u001b[1;31m---------------------------------------------------------------------------\u001b[0m",
      "\u001b[1;31mNameError\u001b[0m                                 Traceback (most recent call last)",
      "Input \u001b[1;32mIn [6]\u001b[0m, in \u001b[0;36m<cell line: 3>\u001b[1;34m()\u001b[0m\n\u001b[0;32m      1\u001b[0m \u001b[38;5;66;03m#genres = pd.DataFrame(dict([(k,pd.Series(v)) for k,v in genre_json.items()]))\u001b[39;00m\n\u001b[1;32m----> 3\u001b[0m songs \u001b[38;5;241m=\u001b[39m pd\u001b[38;5;241m.\u001b[39mDataFrame(\u001b[38;5;28mdict\u001b[39m([(k,pd\u001b[38;5;241m.\u001b[39mSeries(v)) \u001b[38;5;28;01mfor\u001b[39;00m k,v \u001b[38;5;129;01min\u001b[39;00m \u001b[43mb_sets_df\u001b[49m\u001b[38;5;241m.\u001b[39mitems()]))\n\u001b[0;32m      4\u001b[0m songs\n",
      "\u001b[1;31mNameError\u001b[0m: name 'b_sets_df' is not defined"
     ]
    }
   ],
   "source": [
    "#genres = pd.DataFrame(dict([(k,pd.Series(v)) for k,v in genre_json.items()]))\n",
    "\n",
    "songs = pd.DataFrame(dict([(k,pd.Series(v)) for k,v in b_sets_df.items()]))\n",
    "songs"
   ]
  },
  {
   "cell_type": "code",
   "execution_count": null,
   "id": "df7b0c8a",
   "metadata": {},
   "outputs": [],
   "source": []
  },
  {
   "cell_type": "code",
   "execution_count": 8,
   "id": "d7fc6f9a",
   "metadata": {},
   "outputs": [
    {
     "ename": "NameError",
     "evalue": "name 'b_set_df' is not defined",
     "output_type": "error",
     "traceback": [
      "\u001b[1;31m---------------------------------------------------------------------------\u001b[0m",
      "\u001b[1;31mNameError\u001b[0m                                 Traceback (most recent call last)",
      "Input \u001b[1;32mIn [8]\u001b[0m, in \u001b[0;36m<cell line: 1>\u001b[1;34m()\u001b[0m\n\u001b[1;32m----> 1\u001b[0m b_0_df \u001b[38;5;241m=\u001b[39m \u001b[43mb_set_df\u001b[49m[\u001b[38;5;241m0\u001b[39m]\u001b[38;5;241m.\u001b[39mapply(pd\u001b[38;5;241m.\u001b[39mSeries)\n\u001b[0;32m      2\u001b[0m b_0_df\u001b[38;5;241m.\u001b[39mhead()\n",
      "\u001b[1;31mNameError\u001b[0m: name 'b_set_df' is not defined"
     ]
    }
   ],
   "source": [
    "b_0_df = b_set_df[0].apply(pd.Series)\n",
    "b_0_df.head()\n",
    "\n",
    "# this is now a list of dictionaries\n",
    "# look up pd.dataframe and different ways to do it\n",
    "# look into .transpose\n",
    "# "
   ]
  },
  {
   "cell_type": "code",
   "execution_count": null,
   "id": "db3258bb",
   "metadata": {},
   "outputs": [],
   "source": []
  },
  {
   "cell_type": "code",
   "execution_count": 9,
   "id": "e6e32f37",
   "metadata": {},
   "outputs": [
    {
     "ename": "NameError",
     "evalue": "name 'b_0_df' is not defined",
     "output_type": "error",
     "traceback": [
      "\u001b[1;31m---------------------------------------------------------------------------\u001b[0m",
      "\u001b[1;31mNameError\u001b[0m                                 Traceback (most recent call last)",
      "Input \u001b[1;32mIn [9]\u001b[0m, in \u001b[0;36m<cell line: 1>\u001b[1;34m()\u001b[0m\n\u001b[1;32m----> 1\u001b[0m b_song_df \u001b[38;5;241m=\u001b[39m \u001b[43mb_0_df\u001b[49m[\u001b[38;5;124m'\u001b[39m\u001b[38;5;124msong\u001b[39m\u001b[38;5;124m'\u001b[39m]\u001b[38;5;241m.\u001b[39mapply(pd\u001b[38;5;241m.\u001b[39mSeries)\n\u001b[0;32m      2\u001b[0m b_song_df\u001b[38;5;241m.\u001b[39mhead()\n",
      "\u001b[1;31mNameError\u001b[0m: name 'b_0_df' is not defined"
     ]
    }
   ],
   "source": [
    "b_song_df = b_0_df['song'].apply(pd.Series)\n",
    "b_song_df.head()"
   ]
  },
  {
   "cell_type": "code",
   "execution_count": 10,
   "id": "3f014947",
   "metadata": {},
   "outputs": [
    {
     "ename": "NameError",
     "evalue": "name 'b_song_df' is not defined",
     "output_type": "error",
     "traceback": [
      "\u001b[1;31m---------------------------------------------------------------------------\u001b[0m",
      "\u001b[1;31mNameError\u001b[0m                                 Traceback (most recent call last)",
      "Input \u001b[1;32mIn [10]\u001b[0m, in \u001b[0;36m<cell line: 1>\u001b[1;34m()\u001b[0m\n\u001b[1;32m----> 1\u001b[0m b_dict \u001b[38;5;241m=\u001b[39m\u001b[43mb_song_df\u001b[49m[\u001b[38;5;241m1\u001b[39m]\n\u001b[0;32m      2\u001b[0m b_dict_2 \u001b[38;5;241m=\u001b[39mb_dict[\u001b[38;5;241m0\u001b[39m]\n\u001b[0;32m      3\u001b[0m \u001b[38;5;28mprint\u001b[39m(b_dict_2)\n",
      "\u001b[1;31mNameError\u001b[0m: name 'b_song_df' is not defined"
     ]
    }
   ],
   "source": [
    "b_dict =b_song_df[1]\n",
    "b_dict_2 =b_dict[0]\n",
    "print(b_dict_2)"
   ]
  },
  {
   "cell_type": "code",
   "execution_count": null,
   "id": "ebc48c5c",
   "metadata": {},
   "outputs": [],
   "source": [
    "b_song_df[[1,2]]"
   ]
  },
  {
   "cell_type": "code",
   "execution_count": null,
   "id": "1d2a8918",
   "metadata": {},
   "outputs": [],
   "source": []
  },
  {
   "cell_type": "code",
   "execution_count": null,
   "id": "2e589767",
   "metadata": {},
   "outputs": [],
   "source": [
    "print(b_dict_2['name'])"
   ]
  },
  {
   "cell_type": "code",
   "execution_count": null,
   "id": "0cde6e84",
   "metadata": {},
   "outputs": [],
   "source": [
    "b_dict_2.keys()"
   ]
  },
  {
   "cell_type": "code",
   "execution_count": null,
   "id": "9865b486",
   "metadata": {},
   "outputs": [],
   "source": [
    "print('Items --> ', b_dict_2.items())"
   ]
  },
  {
   "cell_type": "markdown",
   "id": "3f2590b5",
   "metadata": {},
   "source": [
    "# c\n",
    "\n",
    "## /1.0/city/{geoId}\n",
    "\n",
    "- couldn't find geoID"
   ]
  },
  {
   "cell_type": "code",
   "execution_count": null,
   "id": "49990be3",
   "metadata": {},
   "outputs": [],
   "source": []
  },
  {
   "cell_type": "markdown",
   "id": "edd2c54a",
   "metadata": {},
   "source": [
    "# d\n",
    "\n",
    "## /1.0/search/artists"
   ]
  },
  {
   "cell_type": "code",
   "execution_count": null,
   "id": "b569bd87",
   "metadata": {},
   "outputs": [],
   "source": [
    "header={\n",
    "    \"Accept\":\"application/json\", \n",
    "    \"x-api-key\":api_key\n",
    "}\n",
    "\n",
    "\n",
    "d=requests.get(\"https://api.setlist.fm/rest/1.0/search/artists?artistName=The%20Beatles&p=1&sort=sortName\", headers=header)\n",
    "d_df=pd.DataFrame(d.json())\n",
    "d_df.head()"
   ]
  },
  {
   "cell_type": "code",
   "execution_count": null,
   "id": "6b9e3621",
   "metadata": {},
   "outputs": [],
   "source": [
    "d_artist_df = d_df['artist'].apply(pd.Series)\n",
    "d_artist_df.head()"
   ]
  },
  {
   "cell_type": "markdown",
   "id": "f310fa9b",
   "metadata": {},
   "source": [
    "# e\n",
    "\n",
    "## /1.0/search/cities"
   ]
  },
  {
   "cell_type": "code",
   "execution_count": null,
   "id": "cb94ce3c",
   "metadata": {},
   "outputs": [],
   "source": [
    "header={\n",
    "    \"Accept\":\"application/json\", \n",
    "    \"x-api-key\":api_key\n",
    "}\n",
    "\n",
    "\n",
    "e=requests.get(\"https://api.setlist.fm/rest/1.0/search/cities?p=1&stateCode=TN\", headers=header)\n",
    "e_df=pd.DataFrame(e.json())\n",
    "e_df.head()"
   ]
  },
  {
   "cell_type": "code",
   "execution_count": null,
   "id": "c37f19ca",
   "metadata": {},
   "outputs": [],
   "source": [
    "e_cities_df = e_df['cities'].apply(pd.Series)\n",
    "e_cities_df.head()"
   ]
  },
  {
   "cell_type": "markdown",
   "id": "5a737e68",
   "metadata": {},
   "source": [
    "# f\n",
    "\n",
    "## /1.0/search/countries"
   ]
  },
  {
   "cell_type": "code",
   "execution_count": null,
   "id": "a283a788",
   "metadata": {},
   "outputs": [],
   "source": [
    "header={\n",
    "    \"Accept\":\"application/json\", \n",
    "    \"x-api-key\":api_key\n",
    "}\n",
    "\n",
    "\n",
    "f=requests.get(\"https://api.setlist.fm/rest/1.0/search/countries\", headers=header)\n",
    "f_df=pd.DataFrame(f.json())\n",
    "f_df.head()"
   ]
  },
  {
   "cell_type": "code",
   "execution_count": null,
   "id": "5d6a1b56",
   "metadata": {},
   "outputs": [],
   "source": [
    "f_country_df = f_df['country'].apply(pd.Series)\n",
    "f_country_df.head()"
   ]
  },
  {
   "cell_type": "markdown",
   "id": "0da223e7",
   "metadata": {},
   "source": [
    "# g\n",
    "\n",
    "## /1.0/search/setlists"
   ]
  },
  {
   "cell_type": "code",
   "execution_count": null,
   "id": "5c3a5c75",
   "metadata": {},
   "outputs": [],
   "source": [
    "header={\n",
    "    \"Accept\":\"application/json\", \n",
    "    \"x-api-key\":api_key\n",
    "}\n",
    "\n",
    "\n",
    "g=requests.get(\"https://api.setlist.fm/rest/1.0/search/setlists?countryCode=US&p=1\", headers=header)\n",
    "g_df=pd.DataFrame(g.json())\n",
    "g_df.head()"
   ]
  },
  {
   "cell_type": "code",
   "execution_count": null,
   "id": "c6199460",
   "metadata": {},
   "outputs": [],
   "source": [
    "g_setlist_df = g_df['setlist'].apply(pd.Series)\n",
    "g_setlist_df.head()"
   ]
  },
  {
   "cell_type": "code",
   "execution_count": null,
   "id": "3b4b09b6",
   "metadata": {},
   "outputs": [],
   "source": [
    "g_venue_df = g_setlist_df['venue'].apply(pd.Series)\n",
    "g_venue_df.head()"
   ]
  },
  {
   "cell_type": "code",
   "execution_count": null,
   "id": "f81e0d1f",
   "metadata": {},
   "outputs": [],
   "source": [
    "g_city_df =g_venue_df['city'].apply(pd.Series)\n",
    "g_city_df.head()"
   ]
  },
  {
   "cell_type": "code",
   "execution_count": null,
   "id": "4a53ce0c",
   "metadata": {},
   "outputs": [],
   "source": [
    "g_artist_df = g_setlist_df['artist'].apply(pd.Series)\n",
    "g_artist_df.head()"
   ]
  },
  {
   "cell_type": "markdown",
   "id": "60e729b2",
   "metadata": {},
   "source": [
    "# h\n",
    "\n",
    "## /1.0/search/venues"
   ]
  },
  {
   "cell_type": "code",
   "execution_count": null,
   "id": "84952cb5",
   "metadata": {},
   "outputs": [],
   "source": [
    "header={\n",
    "    \"Accept\":\"application/json\", \n",
    "    \"x-api-key\":api_key\n",
    "}\n",
    "\n",
    "\n",
    "h=requests.get(\"https://api.setlist.fm/rest/1.0/search/venues?p=1&stateCode=TN\", headers=header)\n",
    "h_df=pd.DataFrame(h.json())\n",
    "h_df.head()"
   ]
  },
  {
   "cell_type": "code",
   "execution_count": null,
   "id": "e8b49048",
   "metadata": {},
   "outputs": [],
   "source": [
    "h_venue_df = h_df['venue'].apply(pd.Series)\n",
    "h_venue_df.head()\n"
   ]
  },
  {
   "cell_type": "code",
   "execution_count": null,
   "id": "c93c281c",
   "metadata": {},
   "outputs": [],
   "source": [
    "h_city_df = h_venue_df['city'].apply(pd.Series)\n",
    "h_city_df.head()"
   ]
  },
  {
   "cell_type": "code",
   "execution_count": null,
   "id": "8cbbb1c6",
   "metadata": {},
   "outputs": [],
   "source": [
    "h_coords_df = h_city_df['coords'].apply(pd.Series)\n",
    "h_coords_df.head()"
   ]
  },
  {
   "cell_type": "markdown",
   "id": "9a341229",
   "metadata": {},
   "source": [
    "# i\n",
    "\n",
    "## /1.0/setlist/{setlistId}"
   ]
  },
  {
   "cell_type": "code",
   "execution_count": null,
   "id": "7e26bb46",
   "metadata": {},
   "outputs": [],
   "source": [
    "header={\n",
    "    \"Accept\":\"application/json\", \n",
    "    \"x-api-key\":api_key\n",
    "}\n",
    "\n",
    "\n",
    "i=requests.get(\"https://api.setlist.fm/rest/1.0/setlist/53d6f3ad\", headers=header)\n",
    "i_df=pd.DataFrame(i.json())\n",
    "i_df"
   ]
  },
  {
   "cell_type": "markdown",
   "id": "9f6eb57d",
   "metadata": {},
   "source": [
    "# j\n",
    "\n",
    "## /1.0/setlist/version/{versionId}"
   ]
  },
  {
   "cell_type": "code",
   "execution_count": null,
   "id": "73a666fb",
   "metadata": {},
   "outputs": [],
   "source": [
    "header={\n",
    "    \"Accept\":\"application/json\", \n",
    "    \"x-api-key\":api_key\n",
    "}\n",
    "\n",
    "\n",
    "j=requests.get(\"https://api.setlist.fm/rest/1.0/setlist/version/g53c29b9d\", headers=header)\n",
    "j_df=pd.DataFrame(j.json())\n",
    "j_df"
   ]
  }
 ],
 "metadata": {
  "kernelspec": {
   "display_name": "Python 3 (ipykernel)",
   "language": "python",
   "name": "python3"
  },
  "language_info": {
   "codemirror_mode": {
    "name": "ipython",
    "version": 3
   },
   "file_extension": ".py",
   "mimetype": "text/x-python",
   "name": "python",
   "nbconvert_exporter": "python",
   "pygments_lexer": "ipython3",
   "version": "3.9.12"
  }
 },
 "nbformat": 4,
 "nbformat_minor": 5
}
