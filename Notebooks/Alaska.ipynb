{
 "cells": [
  {
   "cell_type": "code",
   "execution_count": 1,
   "id": "84eb38ba",
   "metadata": {},
   "outputs": [],
   "source": [
    "import requests\n",
    "import json\n",
    "import numpy as np\n",
    "import pandas as pd\n",
    "import time\n",
    "\n",
    "with open('../Data/api_key.json') as fi:\n",
    "    credentials = json.load(fi)\n",
    "    \n",
    "api_key = credentials['api_key']\n",
    "\n",
    "header={\n",
    "    \"Accept\":\"application/json\", \n",
    "    \"x-api-key\":api_key\n",
    "}"
   ]
  },
  {
   "cell_type": "code",
   "execution_count": null,
   "id": "2e240475",
   "metadata": {},
   "outputs": [],
   "source": []
  },
  {
   "cell_type": "code",
   "execution_count": 2,
   "id": "3dc49608",
   "metadata": {},
   "outputs": [
    {
     "name": "stdout",
     "output_type": "stream",
     "text": [
      "break:1\n"
     ]
    }
   ],
   "source": [
    "# This loop is running all pages of venues for the first five states\n",
    "alaska_venues= []\n",
    "\n",
    "states=['AK']\n",
    "\n",
    "# if print request peice = response to 100, print venues.append...else break\n",
    "# need to figure out how many pages of venues each state has. may need try and accept. or while loop.\n",
    "\n",
    "for y in states: \n",
    "    z=1\n",
    "    a=1\n",
    "    for x in range(10000):\n",
    "        if str(requests.get(f\"https://api.setlist.fm/rest/1.0/search/venues?p={x+1}&stateCode={y}\", headers=header))=='<Response [200]>':\n",
    "            print(requests.get(f\"https://api.setlist.fm/rest/1.0/search/venues?p={x+1}&stateCode={y}\", headers=header))\n",
    "            alaska_venues.append(requests.get(f\"https://api.setlist.fm/rest/1.0/search/venues?p={x+1}&stateCode={y}\", headers=header).json())\n",
    "            time.sleep(5)\n",
    "            print(f\"try:{z}\")\n",
    "            z+=1\n",
    "        else:\n",
    "            print(f\"break:{a}\")\n",
    "            a+=1\n",
    "            break\n",
    "                   "
   ]
  },
  {
   "cell_type": "code",
   "execution_count": null,
   "id": "9e49ca41",
   "metadata": {},
   "outputs": [],
   "source": [
    "first_five_states_venues\n",
    "\n",
    "# confirmed that it's showing all 17 pages in alabama_venues"
   ]
  },
  {
   "cell_type": "code",
   "execution_count": null,
   "id": "08612bbd",
   "metadata": {},
   "outputs": [],
   "source": [
    "# alabama_venues_df_test = pd.DataFrame(alabama_venues)\n",
    "# alabama_venues_df_test"
   ]
  },
  {
   "cell_type": "code",
   "execution_count": null,
   "id": "ed9ba903",
   "metadata": {},
   "outputs": [],
   "source": [
    "# # if I change the [0] to 1, it shows me the next page. I can keep doing this until 16 to show me page 17. \n",
    "# # Is there a way to make a loop? Thinking I can assign it to y and say \"for y in range (1,16):\" \n",
    "\n",
    "# ids = []\n",
    "# names = []\n",
    "# cities = []\n",
    "# city_id = []\n",
    "# states = []\n",
    "# lat_coords = []\n",
    "# long_coords =[]\n",
    "# country = []\n",
    "# for y in range(len(alabama_venues)):    \n",
    "#     for x in alabama_venues[y]['venue']:\n",
    "#         ids.append(x['id'])\n",
    "#         names.append(x['name'])\n",
    "#         cities.append(x['city']['name'])\n",
    "#         city_id.append(x['city']['id'])\n",
    "#         states.append(x['city']['state'])\n",
    "#         lat_coords.append(x['city']['coords']['lat'])\n",
    "#         long_coords.append(x['city']['coords']['long'])\n",
    "#         country.append(x['city']['country']['code'])\n",
    "# alabama_venues_df = pd.DataFrame({'id':ids, 'name':names, 'city':cities,'city_id':city_id, 'state':states, 'lat':lat_coords, 'long':long_coords, 'country':country})\n",
    "# alabama_venues_df.head(10)"
   ]
  },
  {
   "cell_type": "code",
   "execution_count": null,
   "id": "57976729",
   "metadata": {},
   "outputs": [],
   "source": [
    "ids = []\n",
    "names = []\n",
    "cities = []\n",
    "city_id = []\n",
    "states = []\n",
    "lat_coords = []\n",
    "long_coords =[]\n",
    "country = []\n",
    "for y in range(len(first_five_states_venues)):    \n",
    "    for x in first_five_states_venues[y]['venue']:\n",
    "        ids.append(x['id'])\n",
    "        names.append(x['name'])\n",
    "        cities.append(x['city']['name'])\n",
    "        city_id.append(x['city']['id'])\n",
    "        states.append(x['city']['state'])\n",
    "        lat_coords.append(x['city']['coords']['lat'])\n",
    "        long_coords.append(x['city']['coords']['long'])\n",
    "        country.append(x['city']['country']['code'])\n",
    "first_five_states_venues_df = pd.DataFrame({'id':ids, 'name':names, 'city':cities,'city_id':city_id, 'state':states, 'lat':lat_coords, 'long':long_coords, 'country':country})\n",
    "first_five_states_venues_df.head(10)"
   ]
  },
  {
   "cell_type": "code",
   "execution_count": null,
   "id": "697260ec",
   "metadata": {},
   "outputs": [],
   "source": [
    "alabama_venues_df['state'].value_counts()"
   ]
  },
  {
   "cell_type": "code",
   "execution_count": null,
   "id": "f492b8fb",
   "metadata": {},
   "outputs": [],
   "source": [
    "\n",
    "alabama_venues[0]['venue'][0]['id']"
   ]
  },
  {
   "cell_type": "code",
   "execution_count": null,
   "id": "3987a018",
   "metadata": {},
   "outputs": [],
   "source": [
    "# renaming id 'venue id'\n",
    "\n",
    "venue_id = []\n",
    "names = []\n",
    "cities = []\n",
    "city_id = []\n",
    "states = []\n",
    "lat_coords = []\n",
    "long_coords =[]\n",
    "country = []\n",
    "for y in range(len(alabama_venues)):    \n",
    "    for x in alabama_venues[y]['venue']:\n",
    "        venue_id.append(x['id'])\n",
    "        names.append(x['name'])\n",
    "        cities.append(x['city']['name'])\n",
    "        city_id.append(x['city']['id'])\n",
    "        states.append(x['city']['state'])\n",
    "        lat_coords.append(x['city']['coords']['lat'])\n",
    "        long_coords.append(x['city']['coords']['long'])\n",
    "        country.append(x['city']['country']['code'])\n",
    "alabama_venues_df = pd.DataFrame({'venue_id':venue_id, 'name':names, 'city':cities,'city_id':city_id, 'state':states, 'lat':lat_coords, 'long':long_coords, 'country':country})\n",
    "alabama_venues_df.head(10)"
   ]
  },
  {
   "cell_type": "code",
   "execution_count": null,
   "id": "bba14cf9",
   "metadata": {},
   "outputs": [],
   "source": [
    "alabama_venues_df['city'].value_counts()"
   ]
  },
  {
   "cell_type": "code",
   "execution_count": null,
   "id": "579774ef",
   "metadata": {},
   "outputs": [],
   "source": [
    "alaska_venues = alabama_venues_df[alabama_venues_df['state']=='Alaska']\n",
    "alaska_venues"
   ]
  },
  {
   "cell_type": "code",
   "execution_count": null,
   "id": "9fa0db48",
   "metadata": {},
   "outputs": [],
   "source": [
    "# venue_ids_list = alabama_venues_df['venue_id'].tolist()\n",
    "\n",
    "alabama_venue_list = only_alabama_venues['venue_id'].tolist()\n",
    "alabama_venue_list"
   ]
  },
  {
   "cell_type": "code",
   "execution_count": null,
   "id": "d173fa3b",
   "metadata": {},
   "outputs": [],
   "source": [
    "len(alabama_venue_list)"
   ]
  },
  {
   "cell_type": "code",
   "execution_count": null,
   "id": "0f648374",
   "metadata": {},
   "outputs": [],
   "source": [
    "1111/60\n"
   ]
  },
  {
   "cell_type": "code",
   "execution_count": null,
   "id": "836d1646",
   "metadata": {},
   "outputs": [],
   "source": []
  },
  {
   "cell_type": "code",
   "execution_count": null,
   "id": "67243957",
   "metadata": {},
   "outputs": [],
   "source": [
    "# venue_ids to list\n",
    "# names = df['Name'].tolist()\n",
    "\n",
    "venue_ids_list = alabama_venues_df['venue_id'].tolist()\n",
    "venue_ids_list"
   ]
  },
  {
   "cell_type": "code",
   "execution_count": null,
   "id": "9e0e8ece",
   "metadata": {},
   "outputs": [],
   "source": [
    "len(venue_ids)"
   ]
  },
  {
   "cell_type": "code",
   "execution_count": null,
   "id": "7898ab12",
   "metadata": {},
   "outputs": [],
   "source": [
    "# there are 15832 venues in the first five states. with sleep at 1, it will take 4.4 hours to run...."
   ]
  },
  {
   "cell_type": "code",
   "execution_count": null,
   "id": "cec87d29",
   "metadata": {},
   "outputs": [],
   "source": [
    "alabama_venue_list[-1]"
   ]
  },
  {
   "cell_type": "code",
   "execution_count": null,
   "id": "540e3cba",
   "metadata": {},
   "outputs": [],
   "source": [
    "venue_ids_list\n",
    "\n",
    "artists_list = []\n",
    "\n",
    "for x in venue_ids_list:\n",
    "    print(requests.get(f\"https://api.setlist.fm/rest/1.0/venue/{x}/setlists?p=1\", headers=header))\n",
    "    artists_list.append(requests.get(f\"https://api.setlist.fm/rest/1.0/venue/{x}/setlists?p=1\", headers=header).json())\n",
    "    time.sleep(1)\n"
   ]
  },
  {
   "cell_type": "code",
   "execution_count": null,
   "id": "57e211d4",
   "metadata": {},
   "outputs": [],
   "source": [
    "alabama_venue_list\n",
    "\n",
    "alabama_artists_list = []\n",
    "# accidentally forgot to change artists_list.append to alabama_artists_list, so sticking with artists_list. \n",
    "\n",
    "\n",
    "for x in alabama_venue_list:\n",
    "    print(requests.get(f\"https://api.setlist.fm/rest/1.0/venue/{x}/setlists?p=1\", headers=header))\n",
    "    artists_list.append(requests.get(f\"https://api.setlist.fm/rest/1.0/venue/{x}/setlists?p=1\", headers=header).json())\n",
    "    time.sleep(1)"
   ]
  },
  {
   "cell_type": "code",
   "execution_count": null,
   "id": "f9a0372d",
   "metadata": {},
   "outputs": [],
   "source": [
    "# try \n",
    "\n",
    "x = \n",
    "\n",
    "print(requests.get(f\"https://api.setlist.fm/rest/1.0/venue/{x}/setlists?p=1\", headers=header))\n",
    "    artists_list.append(requests.get(f\"https://api.setlist.fm/rest/1.0/venue/{x}/setlists?p=1\", headers=header).json())\n",
    "    time.sleep(1)\n",
    "\n",
    "https://api.setlist.fm/rest/1.0/venue/3d259ab/setlists?p=1"
   ]
  },
  {
   "cell_type": "code",
   "execution_count": null,
   "id": "9a6c1f10",
   "metadata": {},
   "outputs": [],
   "source": [
    "alabama_venue_list[-1]\n",
    "\n",
    "# when testing in individual API call, resulted in 404. "
   ]
  },
  {
   "cell_type": "code",
   "execution_count": null,
   "id": "76772828",
   "metadata": {},
   "outputs": [],
   "source": [
    "\n",
    "print(requests.get(f\"https://api.setlist.fm/rest/1.0/venue/3bd004e8/setlists?p=1\", headers=header))\n",
    "    artists_list.append(requests.get(f\"https://api.setlist.fm/rest/1.0/venue/3bd004e8/setlists?p=1\", headers=header).json())\n",
    "    time.sleep(1)"
   ]
  },
  {
   "cell_type": "code",
   "execution_count": null,
   "id": "f3436550",
   "metadata": {},
   "outputs": [],
   "source": [
    "artists_list_df = pd.DataFrame(artists_list)\n",
    "artists_list_df\n",
    "# the_end_venue_json = the_end_venue.json()\n",
    "# the_end_venue_df = pd.DataFrame(the_end_venue_json)\n",
    "# then loop "
   ]
  },
  {
   "cell_type": "code",
   "execution_count": null,
   "id": "c5e4ddb5",
   "metadata": {},
   "outputs": [],
   "source": [
    "# the_end_venue_data = the_end_venue_df['setlist'].apply(pd.Series)\n",
    "artists_list"
   ]
  },
  {
   "cell_type": "code",
   "execution_count": null,
   "id": "89f8f05c",
   "metadata": {},
   "outputs": [],
   "source": [
    "artists_list[0]['setlist'][0]['venue']\n",
    "\n",
    "# the_end_venue_df['setlist'][0]['venue']"
   ]
  },
  {
   "cell_type": "code",
   "execution_count": null,
   "id": "2a6d5122",
   "metadata": {},
   "outputs": [],
   "source": [
    "len(artists_list)"
   ]
  },
  {
   "cell_type": "code",
   "execution_count": null,
   "id": "54390363",
   "metadata": {},
   "outputs": [],
   "source": [
    "artists_list"
   ]
  },
  {
   "cell_type": "code",
   "execution_count": null,
   "id": "0e1ac218",
   "metadata": {},
   "outputs": [],
   "source": [
    "artists_list[1141]['setlist'][0]['venue']"
   ]
  },
  {
   "cell_type": "code",
   "execution_count": null,
   "id": "5542b394",
   "metadata": {},
   "outputs": [],
   "source": [
    "artists_list[1141]"
   ]
  },
  {
   "cell_type": "code",
   "execution_count": null,
   "id": "bf7347dd",
   "metadata": {
    "scrolled": true
   },
   "outputs": [],
   "source": [
    "#  may need try and accept:\n",
    "\n",
    "\n",
    "mbid = []\n",
    "setlist_id = []\n",
    "artist_name = []\n",
    "venue_name = []\n",
    "venue_id = []\n",
    "try:\n",
    "    for y in range(len(artists_list)):\n",
    "        for x in artists_list[y]['setlist']:\n",
    "            mbid.append(x['artist']['mbid'])\n",
    "            artist_name.append(x['artist']['name'])\n",
    "            setlist_id.append(x['id'])\n",
    "            venue_name.append(x['venue']['name'])\n",
    "            venue_id.append(x['venue']['id'])\n",
    "except: \n",
    "    for y in range(len(artists_list)):\n",
    "        for x in artists_list[y]:\n",
    "            mbid.append(\"not found\")\n",
    "            artist_name.append(\"not found\")\n",
    "            setlist_id.append(\"not found\")\n",
    "            venue_name.append(\"not found\")\n",
    "            venue_id.append(\"not found\")\n",
    "alabama_artists_df = pd.DataFrame({'mbid':mbid, 'setlist_id':setlist_id, 'artist_name':artist_name, 'venue_name':venue_name, 'venue_id':venue_id})\n",
    "alabama_artists_df.head(10)\n",
    "\n",
    "\n",
    "# for y in range(len(alabama_venues)):    \n",
    "#     for x in alabama_venues[y]['venue']:\n",
    "#         venue_id.append(x['id'])\n",
    "#         names.append(x['name'])\n",
    "#         cities.append(x['city']['name'])\n",
    "#         city_id.append(x['city']['id'])\n",
    "#         states.append(x['city']['state'])\n",
    "#         lat_coords.append(x['city']['coords']['lat'])\n",
    "#         long_coords.append(x['city']['coords']['long'])\n",
    "#         country.append(x['city']['country']['code'])\n",
    "# alabama_venues_df = pd.DataFrame({'venue_id':venue_id, 'name':names, 'city':cities,'city_id':city_id, 'state':states, 'lat':lat_coords, 'long':long_coords, 'country':country})\n",
    "# alabama_venues_df.head(10)"
   ]
  },
  {
   "cell_type": "code",
   "execution_count": null,
   "id": "dc09f171",
   "metadata": {},
   "outputs": [],
   "source": [
    "alabama_artists_df['venue_name'].value_counts()"
   ]
  },
  {
   "cell_type": "code",
   "execution_count": null,
   "id": "b92a25c9",
   "metadata": {},
   "outputs": [],
   "source": [
    "mbid = []\n",
    "setlist_id = []\n",
    "artist_name = []\n",
    "venue_name = []\n",
    "venue_id = []\n",
    "\n",
    "for y in range(len(artists_list)):\n",
    "    try:\n",
    "        for x in artists_list[y]['setlist']:\n",
    "            mbid.append(x['artist']['mbid'])\n",
    "            artist_name.append(x['artist']['name'])\n",
    "            setlist_id.append(x['id'])\n",
    "            venue_name.append(x['venue']['name'])\n",
    "            venue_id.append(x['venue']['id'])\n",
    "    except:\n",
    "        for x in artists_list[y]:\n",
    "            mbid.append(\"not found\")\n",
    "            artist_name.append(\"not found\")\n",
    "            setlist_id.append(\"not found\")\n",
    "            venue_name.append(\"not found\")\n",
    "            venue_id.append(\"not found\")\n",
    "alabama_artists_df = pd.DataFrame({'mbid':mbid, 'setlist_id':setlist_id, 'artist_name':artist_name, 'venue_name':venue_name, 'venue_id':venue_id})\n",
    "alabama_artists_df.head(10)"
   ]
  },
  {
   "cell_type": "code",
   "execution_count": null,
   "id": "c6420aa1",
   "metadata": {},
   "outputs": [],
   "source": [
    "subset = alabama_artists_df[alabama_artists_df['venue_name']=='not found']\n",
    "subset.head()"
   ]
  },
  {
   "cell_type": "code",
   "execution_count": null,
   "id": "bb82f371",
   "metadata": {},
   "outputs": [],
   "source": [
    "len(subset)"
   ]
  },
  {
   "cell_type": "code",
   "execution_count": null,
   "id": "68d7385f",
   "metadata": {},
   "outputs": [],
   "source": [
    "# mbid = []\n",
    "# setlist_id = []\n",
    "# artist_name = []\n",
    "# venue_name = []\n",
    "# venue_id = []\n",
    "# for x in artists_list[1]['setlist']:\n",
    "#     mbid.append(x['artist']['mbid'])\n",
    "#     artist_name.append(x['artist']['name'])\n",
    "#     setlist_id.append(x['id'])\n",
    "#     venue_name.append(x['venue']['name'])\n",
    "#     venue_id.append(x['venue']['id'])\n",
    "# alabama_artists_df = pd.DataFrame({'mbid':mbid, 'setlist_id':setlist_id, 'artist_name':artist_name, 'venue_name':venue_name, 'venue_id':venue_id})\n",
    "# alabama_artists_df.head(10)"
   ]
  },
  {
   "cell_type": "code",
   "execution_count": null,
   "id": "0db19996",
   "metadata": {},
   "outputs": [],
   "source": [
    "artists_list[1141]"
   ]
  },
  {
   "cell_type": "code",
   "execution_count": null,
   "id": "329d9f2f",
   "metadata": {},
   "outputs": [],
   "source": [
    "# now will make a list of mbids to input into API call to get set list data\n",
    "# alabama_venue_list = only_alabama_venues['venue_id'].tolist()\n",
    "\n",
    "alabama_mbid_list = alabama_artists_df['mbid'].tolist()\n",
    "alabama_mbid_list"
   ]
  },
  {
   "cell_type": "code",
   "execution_count": null,
   "id": "f4fcfcc1",
   "metadata": {},
   "outputs": [],
   "source": [
    "\n",
    "# data.to_excel('sample_data.xlsx', sheet_name='sheet1', index=False)\n",
    "\n",
    "alabama_artists_df.to_excel('music_matters.xlsx', sheet_name='sheet1', index=False)"
   ]
  }
 ],
 "metadata": {
  "kernelspec": {
   "display_name": "Python 3 (ipykernel)",
   "language": "python",
   "name": "python3"
  },
  "language_info": {
   "codemirror_mode": {
    "name": "ipython",
    "version": 3
   },
   "file_extension": ".py",
   "mimetype": "text/x-python",
   "name": "python",
   "nbconvert_exporter": "python",
   "pygments_lexer": "ipython3",
   "version": "3.9.12"
  }
 },
 "nbformat": 4,
 "nbformat_minor": 5
}
