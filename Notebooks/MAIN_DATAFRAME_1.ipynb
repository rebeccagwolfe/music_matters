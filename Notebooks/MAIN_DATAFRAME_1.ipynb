{
 "cells": [
  {
   "cell_type": "code",
   "execution_count": 1,
   "id": "9a03f6bc",
   "metadata": {},
   "outputs": [],
   "source": [
    "import requests\n",
    "import json\n",
    "import numpy as np\n",
    "import pandas as pd\n",
    "import time\n",
    "import matplotlib.pyplot as plt\n",
    "import seaborn as sns\n",
    "plt.style.use('seaborn')"
   ]
  },
  {
   "cell_type": "markdown",
   "id": "ee3558c5",
   "metadata": {},
   "source": [
    "Things to look into:\n",
    " - top venues\n",
    " - top cover song by venue\n",
    " - percentage of cover to total per city (pie chart)\n",
    " - percentage of cover to total per venue \n",
    " - top 10 covered songs overall\n",
    " - top 10 covered artists overall"
   ]
  },
  {
   "cell_type": "code",
   "execution_count": 2,
   "id": "8f799de3",
   "metadata": {},
   "outputs": [
    {
     "data": {
      "text/html": [
       "<div>\n",
       "<style scoped>\n",
       "    .dataframe tbody tr th:only-of-type {\n",
       "        vertical-align: middle;\n",
       "    }\n",
       "\n",
       "    .dataframe tbody tr th {\n",
       "        vertical-align: top;\n",
       "    }\n",
       "\n",
       "    .dataframe thead th {\n",
       "        text-align: right;\n",
       "    }\n",
       "</style>\n",
       "<table border=\"1\" class=\"dataframe\">\n",
       "  <thead>\n",
       "    <tr style=\"text-align: right;\">\n",
       "      <th></th>\n",
       "      <th>Cities</th>\n",
       "      <th>States</th>\n",
       "      <th>Number of Setlists</th>\n",
       "      <th>Number of Requests</th>\n",
       "    </tr>\n",
       "  </thead>\n",
       "  <tbody>\n",
       "    <tr>\n",
       "      <th>0</th>\n",
       "      <td>New York</td>\n",
       "      <td>NY</td>\n",
       "      <td>8155</td>\n",
       "      <td>407.75</td>\n",
       "    </tr>\n",
       "    <tr>\n",
       "      <th>1</th>\n",
       "      <td>Nashville</td>\n",
       "      <td>TN</td>\n",
       "      <td>2225</td>\n",
       "      <td>111.25</td>\n",
       "    </tr>\n",
       "    <tr>\n",
       "      <th>2</th>\n",
       "      <td>Austin</td>\n",
       "      <td>TX</td>\n",
       "      <td>4369</td>\n",
       "      <td>218.45</td>\n",
       "    </tr>\n",
       "    <tr>\n",
       "      <th>3</th>\n",
       "      <td>Los Angeles</td>\n",
       "      <td>CA</td>\n",
       "      <td>8021</td>\n",
       "      <td>401.05</td>\n",
       "    </tr>\n",
       "    <tr>\n",
       "      <th>4</th>\n",
       "      <td>Chicago</td>\n",
       "      <td>IL</td>\n",
       "      <td>5683</td>\n",
       "      <td>284.15</td>\n",
       "    </tr>\n",
       "    <tr>\n",
       "      <th>5</th>\n",
       "      <td>Las Vegas</td>\n",
       "      <td>NV</td>\n",
       "      <td>4327</td>\n",
       "      <td>216.35</td>\n",
       "    </tr>\n",
       "    <tr>\n",
       "      <th>6</th>\n",
       "      <td>Denver</td>\n",
       "      <td>CO</td>\n",
       "      <td>3063</td>\n",
       "      <td>153.15</td>\n",
       "    </tr>\n",
       "    <tr>\n",
       "      <th>7</th>\n",
       "      <td>San Fransicso</td>\n",
       "      <td>CA</td>\n",
       "      <td>2565</td>\n",
       "      <td>128.25</td>\n",
       "    </tr>\n",
       "    <tr>\n",
       "      <th>8</th>\n",
       "      <td>Seattle</td>\n",
       "      <td>WA</td>\n",
       "      <td>3186</td>\n",
       "      <td>159.30</td>\n",
       "    </tr>\n",
       "    <tr>\n",
       "      <th>9</th>\n",
       "      <td>Portland</td>\n",
       "      <td>OR</td>\n",
       "      <td>2362</td>\n",
       "      <td>118.10</td>\n",
       "    </tr>\n",
       "  </tbody>\n",
       "</table>\n",
       "</div>"
      ],
      "text/plain": [
       "          Cities States  Number of Setlists  Number of Requests\n",
       "0       New York     NY                8155              407.75\n",
       "1      Nashville     TN                2225              111.25\n",
       "2         Austin     TX                4369              218.45\n",
       "3    Los Angeles     CA                8021              401.05\n",
       "4        Chicago     IL                5683              284.15\n",
       "5      Las Vegas     NV                4327              216.35\n",
       "6         Denver     CO                3063              153.15\n",
       "7  San Fransicso     CA                2565              128.25\n",
       "8        Seattle     WA                3186              159.30\n",
       "9       Portland     OR                2362              118.10"
      ]
     },
     "execution_count": 2,
     "metadata": {},
     "output_type": "execute_result"
    }
   ],
   "source": [
    "data={'Cities':['New York', 'Nashville', 'Austin', 'Los Angeles', 'Chicago', \n",
    "           'Las Vegas', 'Denver', 'San Fransicso', 'Seattle', 'Portland'], \n",
    " 'States': ['NY', 'TN', 'TX', 'CA', 'IL', 'NV', 'CO', 'CA', 'WA', 'OR'], \n",
    "      'Number of Setlists':[8155, 2225, 4369, 8021, 5683, 4327, 3063, 2565, 3186, 2362]}\n",
    "\n",
    "\n",
    "df=pd.DataFrame(data)\n",
    "\n",
    "df['Number of Requests']=df['Number of Setlists']/20\n",
    "df"
   ]
  },
  {
   "cell_type": "markdown",
   "id": "ed9ce06b",
   "metadata": {},
   "source": [
    "## Sent to Rob: New York, Los Angeles, Chicago, Austin (around 1300 calls)\n",
    "\n",
    "## I did Seattle, Portland, Nashville\n",
    "\n",
    "## Still need Las Vegas, Denver, San Fransisco\n"
   ]
  },
  {
   "cell_type": "code",
   "execution_count": 3,
   "id": "84a3bccb",
   "metadata": {},
   "outputs": [],
   "source": [
    "portland=pd.read_excel('../Data/music_matters_portland.xlsx')"
   ]
  },
  {
   "cell_type": "code",
   "execution_count": 22,
   "id": "40a6eeed",
   "metadata": {},
   "outputs": [
    {
     "data": {
      "text/plain": [
       "Portland        11641\n",
       "Troutdale         665\n",
       "Happy Valley      296\n",
       "Forest Grove      131\n",
       "Beaverton          37\n",
       "West Linn          16\n",
       "Name: city, dtype: int64"
      ]
     },
     "execution_count": 22,
     "metadata": {},
     "output_type": "execute_result"
    }
   ],
   "source": [
    "portland['city'].value_counts()"
   ]
  },
  {
   "cell_type": "code",
   "execution_count": 34,
   "id": "c9211496",
   "metadata": {},
   "outputs": [],
   "source": [
    "portland = portland[portland['city']=='Portland']"
   ]
  },
  {
   "cell_type": "code",
   "execution_count": 35,
   "id": "3efeca52",
   "metadata": {},
   "outputs": [
    {
     "data": {
      "text/plain": [
       "Portland    11641\n",
       "Name: city, dtype: int64"
      ]
     },
     "execution_count": 35,
     "metadata": {},
     "output_type": "execute_result"
    }
   ],
   "source": [
    "portland['city'].value_counts()"
   ]
  },
  {
   "cell_type": "code",
   "execution_count": 36,
   "id": "30faa0cc",
   "metadata": {},
   "outputs": [],
   "source": [
    "seattle=pd.read_excel('../Data/music_matters_seattle.xlsx')"
   ]
  },
  {
   "cell_type": "code",
   "execution_count": 37,
   "id": "7ed21b14",
   "metadata": {},
   "outputs": [
    {
     "data": {
      "text/plain": [
       "Seattle        14341\n",
       "Tacoma           643\n",
       "Redmond          587\n",
       "Auburn           408\n",
       "Woodinville      346\n",
       "Everett          229\n",
       "Edmonds           92\n",
       "Kent              53\n",
       "Lynnwood          29\n",
       "Bellevue          22\n",
       "Tukwila           16\n",
       "Shoreline         10\n",
       "Renton             5\n",
       "Vashon             5\n",
       "Des Moines         4\n",
       "Federal Way        1\n",
       "Name: city, dtype: int64"
      ]
     },
     "execution_count": 37,
     "metadata": {},
     "output_type": "execute_result"
    }
   ],
   "source": [
    "seattle['city'].value_counts()"
   ]
  },
  {
   "cell_type": "code",
   "execution_count": 38,
   "id": "9c3457fe",
   "metadata": {},
   "outputs": [],
   "source": [
    "seattle = seattle[seattle['city']=='Seattle']"
   ]
  },
  {
   "cell_type": "code",
   "execution_count": 5,
   "id": "944bad85",
   "metadata": {},
   "outputs": [],
   "source": [
    "nashville=pd.read_excel('../Data/music_matters_nashville.xlsx')"
   ]
  },
  {
   "cell_type": "code",
   "execution_count": 24,
   "id": "614acad3",
   "metadata": {},
   "outputs": [
    {
     "data": {
      "text/plain": [
       "Nashville       13385\n",
       "Franklin          562\n",
       "Murfreesboro      137\n",
       "Madison           126\n",
       "Columbia           65\n",
       "Clarksville        33\n",
       "Smyrna             14\n",
       "Name: city, dtype: int64"
      ]
     },
     "execution_count": 24,
     "metadata": {},
     "output_type": "execute_result"
    }
   ],
   "source": [
    "nashville['city'].value_counts()"
   ]
  },
  {
   "cell_type": "code",
   "execution_count": 39,
   "id": "680b7e46",
   "metadata": {},
   "outputs": [],
   "source": [
    "nashville = nashville[nashville['city']=='Nashville']"
   ]
  },
  {
   "cell_type": "code",
   "execution_count": 6,
   "id": "e5d839b7",
   "metadata": {},
   "outputs": [],
   "source": [
    "new_york=pd.read_excel('../Data/music_matters_new_york.xlsx')"
   ]
  },
  {
   "cell_type": "code",
   "execution_count": 25,
   "id": "cbc2e9e9",
   "metadata": {},
   "outputs": [
    {
     "data": {
      "text/plain": [
       "New York           24561\n",
       "Brooklyn           13482\n",
       "Queens              1382\n",
       "Elmont               564\n",
       "Ridgewood            464\n",
       "Staten Island        176\n",
       "Uniondale             77\n",
       "Yonkers               42\n",
       "Elmsford              21\n",
       "The Bronx             18\n",
       "Randalls Island        4\n",
       "Name: city, dtype: int64"
      ]
     },
     "execution_count": 25,
     "metadata": {},
     "output_type": "execute_result"
    }
   ],
   "source": [
    "new_york['city'].value_counts()"
   ]
  },
  {
   "cell_type": "code",
   "execution_count": 40,
   "id": "40340fd6",
   "metadata": {},
   "outputs": [],
   "source": [
    "new_york = new_york[new_york['city']=='New York']"
   ]
  },
  {
   "cell_type": "code",
   "execution_count": 7,
   "id": "85b87139",
   "metadata": {},
   "outputs": [],
   "source": [
    "los_angeles =pd.read_excel('../Data/music_matters_los_angeles.xlsx')"
   ]
  },
  {
   "cell_type": "code",
   "execution_count": 26,
   "id": "cb93d69a",
   "metadata": {},
   "outputs": [
    {
     "data": {
      "text/plain": [
       "Los Angeles            26283\n",
       "Anaheim                 3592\n",
       "West Hollywood          3338\n",
       "Inglewood               3299\n",
       "Santa Ana               1972\n",
       "Pomona                  1588\n",
       "Pasadena                1480\n",
       "Long Beach              1183\n",
       "Garden Grove             598\n",
       "Redondo Beach            468\n",
       "Beverly Hills            253\n",
       "San Fernando             252\n",
       "Burbank                  242\n",
       "Ontario                  238\n",
       "Agoura Hills             237\n",
       "Santa Monica             232\n",
       "Venice                   216\n",
       "Thousand Oaks            199\n",
       "San Pedro                195\n",
       "Santa Clarita            179\n",
       "La Mirada                 80\n",
       "East Los Angeles          76\n",
       "Huntington Beach          75\n",
       "Glendale                  75\n",
       "Montclair                 66\n",
       "Altadena                  47\n",
       "Cerritos                  47\n",
       "Culver City               45\n",
       "Malibu                    43\n",
       "Fullerton                 37\n",
       "Seal Beach                37\n",
       "Norco                     35\n",
       "Westlake Village          33\n",
       "Northridge                33\n",
       "Fountain Valley           32\n",
       "Glendora                  32\n",
       "Bellflower                29\n",
       "Maywood                   24\n",
       "Fontana                   24\n",
       "Eagle Rock                22\n",
       "Commerce                  19\n",
       "Rancho Cucamonga          17\n",
       "Arcadia                   17\n",
       "Bell Gardens              15\n",
       "Santa Fe Springs          15\n",
       "Whittier                  14\n",
       "Rancho Palos Verdes       13\n",
       "Universal City            13\n",
       "Hawthorne                 11\n",
       "Upland                    10\n",
       "Topanga                   10\n",
       "Norwalk                    9\n",
       "Huntington Park            7\n",
       "Compton                    7\n",
       "Moorpark                   3\n",
       "Downey                     2\n",
       "Name: city, dtype: int64"
      ]
     },
     "execution_count": 26,
     "metadata": {},
     "output_type": "execute_result"
    }
   ],
   "source": [
    "los_angeles['city'].value_counts()"
   ]
  },
  {
   "cell_type": "code",
   "execution_count": 41,
   "id": "dd5e54f7",
   "metadata": {},
   "outputs": [],
   "source": [
    "los_angeles = los_angeles[los_angeles['city']=='Los Angeles']"
   ]
  },
  {
   "cell_type": "code",
   "execution_count": 8,
   "id": "356d3542",
   "metadata": {},
   "outputs": [],
   "source": [
    "austin =pd.read_excel('../Data/music_matters_austin.xlsx')"
   ]
  },
  {
   "cell_type": "code",
   "execution_count": 27,
   "id": "bc694c56",
   "metadata": {},
   "outputs": [
    {
     "data": {
      "text/plain": [
       "Austin              18029\n",
       "Cedar Park            274\n",
       "Round Rock            122\n",
       "Spicewood              66\n",
       "Buda                   51\n",
       "Hutto                  48\n",
       "Dripping Springs       43\n",
       "Bee Cave               36\n",
       "Kyle                   26\n",
       "Coupland               25\n",
       "Marble Falls           21\n",
       "Georgetown             15\n",
       "Wimberley              14\n",
       "Del Valle              12\n",
       "Pflugerville           10\n",
       "Driftwood               3\n",
       "Name: city, dtype: int64"
      ]
     },
     "execution_count": 27,
     "metadata": {},
     "output_type": "execute_result"
    }
   ],
   "source": [
    "austin['city'].value_counts()"
   ]
  },
  {
   "cell_type": "code",
   "execution_count": 42,
   "id": "6fb9a519",
   "metadata": {},
   "outputs": [],
   "source": [
    "austin = austin[austin['city']=='Austin']"
   ]
  },
  {
   "cell_type": "code",
   "execution_count": 9,
   "id": "a6fc8f72",
   "metadata": {},
   "outputs": [],
   "source": [
    "chicago =pd.read_excel('../Data/music_matters_chicago.xlsx')"
   ]
  },
  {
   "cell_type": "code",
   "execution_count": 28,
   "id": "922232a2",
   "metadata": {},
   "outputs": [
    {
     "data": {
      "text/plain": [
       "Chicago               26527\n",
       "Joliet                 1361\n",
       "Evanston                814\n",
       "Tinley Park             804\n",
       "Des Plaines             798\n",
       "Aurora                  598\n",
       "Highland Park           582\n",
       "Rosemont                519\n",
       "Berwyn                  458\n",
       "Bridgeview              228\n",
       "West Chicago            111\n",
       "Oak Park                110\n",
       "Hoffman Estates          92\n",
       "Lombard                  91\n",
       "Highwood                 83\n",
       "Wheaton                  78\n",
       "Palatine                 70\n",
       "Skokie                   68\n",
       "Elmhurst                 61\n",
       "Arlington Heights        60\n",
       "Naperville               44\n",
       "Homewood                 39\n",
       "Schaumburg               33\n",
       "Roselle                  30\n",
       "Elk Grove Village        30\n",
       "Winnetka                 28\n",
       "Wheeling                 26\n",
       "Rolling Meadows          26\n",
       "River Grove              25\n",
       "Romeoville               18\n",
       "Addison                  17\n",
       "Lemont                   16\n",
       "Libertyville             15\n",
       "South Barrington         15\n",
       "Vernon Hills             15\n",
       "West Dundee              14\n",
       "Willow Springs           14\n",
       "Country Club Hills       13\n",
       "Villa Park               13\n",
       "Bedford Park             12\n",
       "Bolingbrook              12\n",
       "Glenview                 11\n",
       "La Grange                11\n",
       "Downers Grove            10\n",
       "Glen Ellyn                9\n",
       "Name: city, dtype: int64"
      ]
     },
     "execution_count": 28,
     "metadata": {},
     "output_type": "execute_result"
    }
   ],
   "source": [
    "chicago['city'].value_counts()"
   ]
  },
  {
   "cell_type": "code",
   "execution_count": 43,
   "id": "470306f6",
   "metadata": {},
   "outputs": [],
   "source": [
    "chicago = chicago[chicago['city']=='Chicago']"
   ]
  },
  {
   "cell_type": "code",
   "execution_count": 10,
   "id": "f7fbb029",
   "metadata": {},
   "outputs": [],
   "source": [
    "denver =pd.read_excel('../Data/music_matters_denver.xlsx')"
   ]
  },
  {
   "cell_type": "code",
   "execution_count": 29,
   "id": "15f5ac3b",
   "metadata": {},
   "outputs": [
    {
     "data": {
      "text/plain": [
       "Denver               12219\n",
       "Morrison              3204\n",
       "Englewood              850\n",
       "Greenwood Village      678\n",
       "Arvada                 175\n",
       "Parker                  95\n",
       "Broomfield              89\n",
       "Littleton               78\n",
       "Commerce City           55\n",
       "Highlands Ranch         45\n",
       "Thornton                23\n",
       "Aurora                  23\n",
       "Castle Rock             16\n",
       "Golden                  10\n",
       "Evergreen                9\n",
       "Name: city, dtype: int64"
      ]
     },
     "execution_count": 29,
     "metadata": {},
     "output_type": "execute_result"
    }
   ],
   "source": [
    "denver['city'].value_counts()"
   ]
  },
  {
   "cell_type": "code",
   "execution_count": 44,
   "id": "4ed404f8",
   "metadata": {},
   "outputs": [],
   "source": [
    "denver = denver[denver['city']=='Denver']"
   ]
  },
  {
   "cell_type": "code",
   "execution_count": 11,
   "id": "ec21dd37",
   "metadata": {},
   "outputs": [],
   "source": [
    "las_vegas =pd.read_excel('../Data/music_matters_las_vegas.xlsx')"
   ]
  },
  {
   "cell_type": "code",
   "execution_count": 30,
   "id": "00130ddf",
   "metadata": {},
   "outputs": [
    {
     "data": {
      "text/plain": [
       "Las Vegas          6274\n",
       "Henderson           108\n",
       "North Las Vegas      36\n",
       "Name: city, dtype: int64"
      ]
     },
     "execution_count": 30,
     "metadata": {},
     "output_type": "execute_result"
    }
   ],
   "source": [
    "las_vegas['city'].value_counts()"
   ]
  },
  {
   "cell_type": "code",
   "execution_count": 45,
   "id": "0b24b763",
   "metadata": {},
   "outputs": [],
   "source": [
    "las_vegas = las_vegas[las_vegas['city']=='Las Vegas']"
   ]
  },
  {
   "cell_type": "code",
   "execution_count": 12,
   "id": "dbda3251",
   "metadata": {},
   "outputs": [],
   "source": [
    "san_francisco =pd.read_excel('../Data/music_matters_san_francisco.xlsx')"
   ]
  },
  {
   "cell_type": "code",
   "execution_count": 31,
   "id": "6da36a87",
   "metadata": {},
   "outputs": [
    {
     "data": {
      "text/plain": [
       "San Francisco    14378\n",
       "Novato             462\n",
       "Menlo Park         461\n",
       "Mill Valley        358\n",
       "Pacifica           111\n",
       "Nicasio             68\n",
       "Redwood City        53\n",
       "San Mateo           43\n",
       "San Rafael          38\n",
       "Half Moon Bay       36\n",
       "Kentfield           10\n",
       "Bolinas              1\n",
       "Name: city, dtype: int64"
      ]
     },
     "execution_count": 31,
     "metadata": {},
     "output_type": "execute_result"
    }
   ],
   "source": [
    "san_francisco['city'].value_counts()"
   ]
  },
  {
   "cell_type": "code",
   "execution_count": 46,
   "id": "437e36e6",
   "metadata": {},
   "outputs": [],
   "source": [
    "san_francisco = san_francisco[san_francisco['city']=='San Francisco']"
   ]
  },
  {
   "cell_type": "code",
   "execution_count": 47,
   "id": "7fc2433e",
   "metadata": {},
   "outputs": [],
   "source": [
    "concat = pd.concat([new_york, nashville, seattle, portland, los_angeles, chicago, austin, denver, las_vegas, san_francisco], ignore_index=True)"
   ]
  },
  {
   "cell_type": "code",
   "execution_count": 48,
   "id": "2292f3a6",
   "metadata": {},
   "outputs": [
    {
     "data": {
      "text/html": [
       "<div>\n",
       "<style scoped>\n",
       "    .dataframe tbody tr th:only-of-type {\n",
       "        vertical-align: middle;\n",
       "    }\n",
       "\n",
       "    .dataframe tbody tr th {\n",
       "        vertical-align: top;\n",
       "    }\n",
       "\n",
       "    .dataframe thead th {\n",
       "        text-align: right;\n",
       "    }\n",
       "</style>\n",
       "<table border=\"1\" class=\"dataframe\">\n",
       "  <thead>\n",
       "    <tr style=\"text-align: right;\">\n",
       "      <th></th>\n",
       "      <th>ids</th>\n",
       "      <th>versionid</th>\n",
       "      <th>eventdate</th>\n",
       "      <th>lastupdated</th>\n",
       "      <th>artist</th>\n",
       "      <th>venue</th>\n",
       "      <th>venue_id</th>\n",
       "      <th>city</th>\n",
       "      <th>state</th>\n",
       "      <th>stateCode</th>\n",
       "      <th>lat_coords</th>\n",
       "      <th>long_coords</th>\n",
       "      <th>song</th>\n",
       "      <th>cover</th>\n",
       "    </tr>\n",
       "  </thead>\n",
       "  <tbody>\n",
       "    <tr>\n",
       "      <th>0</th>\n",
       "      <td>63bc928f</td>\n",
       "      <td>g43e24baf</td>\n",
       "      <td>12-12-2022</td>\n",
       "      <td>2022-12-13T19:34:01.209+0000</td>\n",
       "      <td>half•alive</td>\n",
       "      <td>VEVO Studios</td>\n",
       "      <td>7bd49210</td>\n",
       "      <td>New York</td>\n",
       "      <td>New York</td>\n",
       "      <td>NY</td>\n",
       "      <td>40.714269</td>\n",
       "      <td>-74.005973</td>\n",
       "      <td>Did I Make You Up?</td>\n",
       "      <td>original</td>\n",
       "    </tr>\n",
       "    <tr>\n",
       "      <th>1</th>\n",
       "      <td>63bc928f</td>\n",
       "      <td>g43e24baf</td>\n",
       "      <td>12-12-2022</td>\n",
       "      <td>2022-12-13T19:34:01.209+0000</td>\n",
       "      <td>half•alive</td>\n",
       "      <td>VEVO Studios</td>\n",
       "      <td>7bd49210</td>\n",
       "      <td>New York</td>\n",
       "      <td>New York</td>\n",
       "      <td>NY</td>\n",
       "      <td>40.714269</td>\n",
       "      <td>-74.005973</td>\n",
       "      <td>Brighton</td>\n",
       "      <td>original</td>\n",
       "    </tr>\n",
       "    <tr>\n",
       "      <th>2</th>\n",
       "      <td>53bcb7fd</td>\n",
       "      <td>g4be25346</td>\n",
       "      <td>12-12-2022</td>\n",
       "      <td>2022-12-13T04:40:31.354+0000</td>\n",
       "      <td>The Pretty Reckless</td>\n",
       "      <td>Bowery Ballroom</td>\n",
       "      <td>33d61cdd</td>\n",
       "      <td>New York</td>\n",
       "      <td>New York</td>\n",
       "      <td>NY</td>\n",
       "      <td>40.714269</td>\n",
       "      <td>-74.005973</td>\n",
       "      <td>Death by Rock and Roll</td>\n",
       "      <td>original</td>\n",
       "    </tr>\n",
       "    <tr>\n",
       "      <th>3</th>\n",
       "      <td>53bcb7fd</td>\n",
       "      <td>g4be25346</td>\n",
       "      <td>12-12-2022</td>\n",
       "      <td>2022-12-13T04:40:31.354+0000</td>\n",
       "      <td>The Pretty Reckless</td>\n",
       "      <td>Bowery Ballroom</td>\n",
       "      <td>33d61cdd</td>\n",
       "      <td>New York</td>\n",
       "      <td>New York</td>\n",
       "      <td>NY</td>\n",
       "      <td>40.714269</td>\n",
       "      <td>-74.005973</td>\n",
       "      <td>Since You're Gone</td>\n",
       "      <td>original</td>\n",
       "    </tr>\n",
       "    <tr>\n",
       "      <th>4</th>\n",
       "      <td>53bcb7fd</td>\n",
       "      <td>g4be25346</td>\n",
       "      <td>12-12-2022</td>\n",
       "      <td>2022-12-13T04:40:31.354+0000</td>\n",
       "      <td>The Pretty Reckless</td>\n",
       "      <td>Bowery Ballroom</td>\n",
       "      <td>33d61cdd</td>\n",
       "      <td>New York</td>\n",
       "      <td>New York</td>\n",
       "      <td>NY</td>\n",
       "      <td>40.714269</td>\n",
       "      <td>-74.005973</td>\n",
       "      <td>Only Love Can Save Me Now</td>\n",
       "      <td>original</td>\n",
       "    </tr>\n",
       "    <tr>\n",
       "      <th>...</th>\n",
       "      <td>...</td>\n",
       "      <td>...</td>\n",
       "      <td>...</td>\n",
       "      <td>...</td>\n",
       "      <td>...</td>\n",
       "      <td>...</td>\n",
       "      <td>...</td>\n",
       "      <td>...</td>\n",
       "      <td>...</td>\n",
       "      <td>...</td>\n",
       "      <td>...</td>\n",
       "      <td>...</td>\n",
       "      <td>...</td>\n",
       "      <td>...</td>\n",
       "    </tr>\n",
       "    <tr>\n",
       "      <th>167633</th>\n",
       "      <td>2b8b50be</td>\n",
       "      <td>g23f30c43</td>\n",
       "      <td>2022-01-01 00:00:00</td>\n",
       "      <td>2022-07-21T06:22:01.720+0000</td>\n",
       "      <td>Monsieur PerinÃ©</td>\n",
       "      <td>Miner Auditorium</td>\n",
       "      <td>5bd4e300</td>\n",
       "      <td>San Francisco</td>\n",
       "      <td>California</td>\n",
       "      <td>CA</td>\n",
       "      <td>37.775000</td>\n",
       "      <td>-122.419000</td>\n",
       "      <td>Encanto tropical</td>\n",
       "      <td>original</td>\n",
       "    </tr>\n",
       "    <tr>\n",
       "      <th>167634</th>\n",
       "      <td>2b8b50be</td>\n",
       "      <td>g23f30c43</td>\n",
       "      <td>2022-01-01 00:00:00</td>\n",
       "      <td>2022-07-21T06:22:01.720+0000</td>\n",
       "      <td>Monsieur PerinÃ©</td>\n",
       "      <td>Miner Auditorium</td>\n",
       "      <td>5bd4e300</td>\n",
       "      <td>San Francisco</td>\n",
       "      <td>California</td>\n",
       "      <td>CA</td>\n",
       "      <td>37.775000</td>\n",
       "      <td>-122.419000</td>\n",
       "      <td>Mundo paralelo</td>\n",
       "      <td>original</td>\n",
       "    </tr>\n",
       "    <tr>\n",
       "      <th>167635</th>\n",
       "      <td>2b8b50be</td>\n",
       "      <td>g23f30c43</td>\n",
       "      <td>2022-01-01 00:00:00</td>\n",
       "      <td>2022-07-21T06:22:01.720+0000</td>\n",
       "      <td>Monsieur PerinÃ©</td>\n",
       "      <td>Miner Auditorium</td>\n",
       "      <td>5bd4e300</td>\n",
       "      <td>San Francisco</td>\n",
       "      <td>California</td>\n",
       "      <td>CA</td>\n",
       "      <td>37.775000</td>\n",
       "      <td>-122.419000</td>\n",
       "      <td>Tarde</td>\n",
       "      <td>original</td>\n",
       "    </tr>\n",
       "    <tr>\n",
       "      <th>167636</th>\n",
       "      <td>2b8b50be</td>\n",
       "      <td>g23f30c43</td>\n",
       "      <td>2022-01-01 00:00:00</td>\n",
       "      <td>2022-07-21T06:22:01.720+0000</td>\n",
       "      <td>Monsieur PerinÃ©</td>\n",
       "      <td>Miner Auditorium</td>\n",
       "      <td>5bd4e300</td>\n",
       "      <td>San Francisco</td>\n",
       "      <td>California</td>\n",
       "      <td>CA</td>\n",
       "      <td>37.775000</td>\n",
       "      <td>-122.419000</td>\n",
       "      <td>Ton silence</td>\n",
       "      <td>original</td>\n",
       "    </tr>\n",
       "    <tr>\n",
       "      <th>167637</th>\n",
       "      <td>2b8b50be</td>\n",
       "      <td>g23f30c43</td>\n",
       "      <td>2022-01-01 00:00:00</td>\n",
       "      <td>2022-07-21T06:22:01.720+0000</td>\n",
       "      <td>Monsieur PerinÃ©</td>\n",
       "      <td>Miner Auditorium</td>\n",
       "      <td>5bd4e300</td>\n",
       "      <td>San Francisco</td>\n",
       "      <td>California</td>\n",
       "      <td>CA</td>\n",
       "      <td>37.775000</td>\n",
       "      <td>-122.419000</td>\n",
       "      <td>La muerte</td>\n",
       "      <td>original</td>\n",
       "    </tr>\n",
       "  </tbody>\n",
       "</table>\n",
       "<p>167638 rows × 14 columns</p>\n",
       "</div>"
      ],
      "text/plain": [
       "             ids  versionid            eventdate  \\\n",
       "0       63bc928f  g43e24baf           12-12-2022   \n",
       "1       63bc928f  g43e24baf           12-12-2022   \n",
       "2       53bcb7fd  g4be25346           12-12-2022   \n",
       "3       53bcb7fd  g4be25346           12-12-2022   \n",
       "4       53bcb7fd  g4be25346           12-12-2022   \n",
       "...          ...        ...                  ...   \n",
       "167633  2b8b50be  g23f30c43  2022-01-01 00:00:00   \n",
       "167634  2b8b50be  g23f30c43  2022-01-01 00:00:00   \n",
       "167635  2b8b50be  g23f30c43  2022-01-01 00:00:00   \n",
       "167636  2b8b50be  g23f30c43  2022-01-01 00:00:00   \n",
       "167637  2b8b50be  g23f30c43  2022-01-01 00:00:00   \n",
       "\n",
       "                         lastupdated               artist             venue  \\\n",
       "0       2022-12-13T19:34:01.209+0000           half•alive      VEVO Studios   \n",
       "1       2022-12-13T19:34:01.209+0000           half•alive      VEVO Studios   \n",
       "2       2022-12-13T04:40:31.354+0000  The Pretty Reckless   Bowery Ballroom   \n",
       "3       2022-12-13T04:40:31.354+0000  The Pretty Reckless   Bowery Ballroom   \n",
       "4       2022-12-13T04:40:31.354+0000  The Pretty Reckless   Bowery Ballroom   \n",
       "...                              ...                  ...               ...   \n",
       "167633  2022-07-21T06:22:01.720+0000     Monsieur PerinÃ©  Miner Auditorium   \n",
       "167634  2022-07-21T06:22:01.720+0000     Monsieur PerinÃ©  Miner Auditorium   \n",
       "167635  2022-07-21T06:22:01.720+0000     Monsieur PerinÃ©  Miner Auditorium   \n",
       "167636  2022-07-21T06:22:01.720+0000     Monsieur PerinÃ©  Miner Auditorium   \n",
       "167637  2022-07-21T06:22:01.720+0000     Monsieur PerinÃ©  Miner Auditorium   \n",
       "\n",
       "        venue_id           city       state stateCode  lat_coords  \\\n",
       "0       7bd49210       New York    New York        NY   40.714269   \n",
       "1       7bd49210       New York    New York        NY   40.714269   \n",
       "2       33d61cdd       New York    New York        NY   40.714269   \n",
       "3       33d61cdd       New York    New York        NY   40.714269   \n",
       "4       33d61cdd       New York    New York        NY   40.714269   \n",
       "...          ...            ...         ...       ...         ...   \n",
       "167633  5bd4e300  San Francisco  California        CA   37.775000   \n",
       "167634  5bd4e300  San Francisco  California        CA   37.775000   \n",
       "167635  5bd4e300  San Francisco  California        CA   37.775000   \n",
       "167636  5bd4e300  San Francisco  California        CA   37.775000   \n",
       "167637  5bd4e300  San Francisco  California        CA   37.775000   \n",
       "\n",
       "        long_coords                       song     cover  \n",
       "0        -74.005973         Did I Make You Up?  original  \n",
       "1        -74.005973                   Brighton  original  \n",
       "2        -74.005973     Death by Rock and Roll  original  \n",
       "3        -74.005973          Since You're Gone  original  \n",
       "4        -74.005973  Only Love Can Save Me Now  original  \n",
       "...             ...                        ...       ...  \n",
       "167633  -122.419000           Encanto tropical  original  \n",
       "167634  -122.419000             Mundo paralelo  original  \n",
       "167635  -122.419000                      Tarde  original  \n",
       "167636  -122.419000                Ton silence  original  \n",
       "167637  -122.419000                  La muerte  original  \n",
       "\n",
       "[167638 rows x 14 columns]"
      ]
     },
     "execution_count": 48,
     "metadata": {},
     "output_type": "execute_result"
    }
   ],
   "source": [
    "concat"
   ]
  },
  {
   "cell_type": "code",
   "execution_count": 49,
   "id": "9c939cff",
   "metadata": {},
   "outputs": [],
   "source": [
    "concat['original_vs_cover'] = np.where(concat['cover']=='original', 'Original', 'Cover')"
   ]
  },
  {
   "cell_type": "code",
   "execution_count": 50,
   "id": "352cae21",
   "metadata": {},
   "outputs": [
    {
     "data": {
      "text/plain": [
       "California    40661\n",
       "Illinois      26527\n",
       "New York      24561\n",
       "Texas         18029\n",
       "Washington    14341\n",
       "Tennessee     13385\n",
       "Colorado      12219\n",
       "Oregon        11641\n",
       "Nevada         6274\n",
       "Name: state, dtype: int64"
      ]
     },
     "execution_count": 50,
     "metadata": {},
     "output_type": "execute_result"
    }
   ],
   "source": [
    "concat['state'].value_counts()"
   ]
  },
  {
   "cell_type": "code",
   "execution_count": 53,
   "id": "f568b345",
   "metadata": {},
   "outputs": [
    {
     "data": {
      "text/plain": [
       "<AxesSubplot:>"
      ]
     },
     "execution_count": 53,
     "metadata": {},
     "output_type": "execute_result"
    },
    {
     "data": {
      "image/png": "[encoded data removed]",
      "text/plain": [
       "<Figure size 576x396 with 1 Axes>"
      ]
     },
     "metadata": {},
     "output_type": "display_data"
    }
   ],
   "source": [
    "concat['city'].value_counts().sort_values(ascending=False).nlargest(10).plot(kind='barh')"
   ]
  },
  {
   "cell_type": "code",
   "execution_count": 96,
   "id": "8b8b415a",
   "metadata": {},
   "outputs": [
    {
     "data": {
      "text/plain": [
       "Text(0.5, 1.0, 'Covers VS Originals')"
      ]
     },
     "execution_count": 96,
     "metadata": {},
     "output_type": "execute_result"
    },
    {
     "data": {
      "image/png": "[encoded data removed]",
      "text/plain": [
       "<Figure size 576x396 with 1 Axes>"
      ]
     },
     "metadata": {},
     "output_type": "display_data"
    }
   ],
   "source": [
    "concat.groupby(['city', 'original_vs_cover']).size().unstack().plot(kind='barh', xlabel='City', legend=True, ylabel='', fontsize=15)\n",
    "\n",
    "plt.title('Covers VS Originals',fontsize=25)\n",
    "# plt.tight_layout()"
   ]
  },
  {
   "cell_type": "code",
   "execution_count": 55,
   "id": "f2b1310d",
   "metadata": {},
   "outputs": [
    {
     "data": {
      "text/html": [
       "<div>\n",
       "<style scoped>\n",
       "    .dataframe tbody tr th:only-of-type {\n",
       "        vertical-align: middle;\n",
       "    }\n",
       "\n",
       "    .dataframe tbody tr th {\n",
       "        vertical-align: top;\n",
       "    }\n",
       "\n",
       "    .dataframe thead th {\n",
       "        text-align: right;\n",
       "    }\n",
       "</style>\n",
       "<table border=\"1\" class=\"dataframe\">\n",
       "  <thead>\n",
       "    <tr style=\"text-align: right;\">\n",
       "      <th></th>\n",
       "      <th>ids</th>\n",
       "      <th>versionid</th>\n",
       "      <th>eventdate</th>\n",
       "      <th>lastupdated</th>\n",
       "      <th>artist</th>\n",
       "      <th>venue</th>\n",
       "      <th>venue_id</th>\n",
       "      <th>state</th>\n",
       "      <th>stateCode</th>\n",
       "      <th>lat_coords</th>\n",
       "      <th>long_coords</th>\n",
       "      <th>song</th>\n",
       "      <th>cover</th>\n",
       "      <th>original_vs_cover</th>\n",
       "    </tr>\n",
       "    <tr>\n",
       "      <th>city</th>\n",
       "      <th></th>\n",
       "      <th></th>\n",
       "      <th></th>\n",
       "      <th></th>\n",
       "      <th></th>\n",
       "      <th></th>\n",
       "      <th></th>\n",
       "      <th></th>\n",
       "      <th></th>\n",
       "      <th></th>\n",
       "      <th></th>\n",
       "      <th></th>\n",
       "      <th></th>\n",
       "      <th></th>\n",
       "    </tr>\n",
       "  </thead>\n",
       "  <tbody>\n",
       "    <tr>\n",
       "      <th>Austin</th>\n",
       "      <td>18029</td>\n",
       "      <td>18029</td>\n",
       "      <td>18029</td>\n",
       "      <td>18029</td>\n",
       "      <td>18029</td>\n",
       "      <td>18029</td>\n",
       "      <td>18029</td>\n",
       "      <td>18029</td>\n",
       "      <td>18029</td>\n",
       "      <td>18029</td>\n",
       "      <td>18029</td>\n",
       "      <td>17822</td>\n",
       "      <td>18029</td>\n",
       "      <td>18029</td>\n",
       "    </tr>\n",
       "    <tr>\n",
       "      <th>Chicago</th>\n",
       "      <td>26527</td>\n",
       "      <td>26527</td>\n",
       "      <td>26527</td>\n",
       "      <td>26527</td>\n",
       "      <td>26527</td>\n",
       "      <td>26527</td>\n",
       "      <td>26527</td>\n",
       "      <td>26527</td>\n",
       "      <td>26527</td>\n",
       "      <td>26527</td>\n",
       "      <td>26527</td>\n",
       "      <td>26349</td>\n",
       "      <td>26527</td>\n",
       "      <td>26527</td>\n",
       "    </tr>\n",
       "    <tr>\n",
       "      <th>Denver</th>\n",
       "      <td>12219</td>\n",
       "      <td>12219</td>\n",
       "      <td>12219</td>\n",
       "      <td>12219</td>\n",
       "      <td>12219</td>\n",
       "      <td>12219</td>\n",
       "      <td>12219</td>\n",
       "      <td>12219</td>\n",
       "      <td>12219</td>\n",
       "      <td>12219</td>\n",
       "      <td>12219</td>\n",
       "      <td>12141</td>\n",
       "      <td>12219</td>\n",
       "      <td>12219</td>\n",
       "    </tr>\n",
       "    <tr>\n",
       "      <th>Las Vegas</th>\n",
       "      <td>6274</td>\n",
       "      <td>6274</td>\n",
       "      <td>6274</td>\n",
       "      <td>6274</td>\n",
       "      <td>6274</td>\n",
       "      <td>6274</td>\n",
       "      <td>6274</td>\n",
       "      <td>6274</td>\n",
       "      <td>6274</td>\n",
       "      <td>6274</td>\n",
       "      <td>6274</td>\n",
       "      <td>6246</td>\n",
       "      <td>6274</td>\n",
       "      <td>6274</td>\n",
       "    </tr>\n",
       "    <tr>\n",
       "      <th>Los Angeles</th>\n",
       "      <td>26283</td>\n",
       "      <td>26283</td>\n",
       "      <td>26283</td>\n",
       "      <td>26283</td>\n",
       "      <td>26283</td>\n",
       "      <td>26283</td>\n",
       "      <td>26283</td>\n",
       "      <td>26283</td>\n",
       "      <td>26283</td>\n",
       "      <td>26283</td>\n",
       "      <td>26283</td>\n",
       "      <td>26031</td>\n",
       "      <td>26283</td>\n",
       "      <td>26283</td>\n",
       "    </tr>\n",
       "    <tr>\n",
       "      <th>Nashville</th>\n",
       "      <td>13385</td>\n",
       "      <td>13385</td>\n",
       "      <td>13385</td>\n",
       "      <td>13385</td>\n",
       "      <td>13385</td>\n",
       "      <td>13385</td>\n",
       "      <td>13385</td>\n",
       "      <td>13385</td>\n",
       "      <td>13385</td>\n",
       "      <td>13385</td>\n",
       "      <td>13385</td>\n",
       "      <td>13282</td>\n",
       "      <td>13385</td>\n",
       "      <td>13385</td>\n",
       "    </tr>\n",
       "    <tr>\n",
       "      <th>New York</th>\n",
       "      <td>24561</td>\n",
       "      <td>24561</td>\n",
       "      <td>24561</td>\n",
       "      <td>24561</td>\n",
       "      <td>24561</td>\n",
       "      <td>24561</td>\n",
       "      <td>24561</td>\n",
       "      <td>24561</td>\n",
       "      <td>24561</td>\n",
       "      <td>24561</td>\n",
       "      <td>24561</td>\n",
       "      <td>24388</td>\n",
       "      <td>24561</td>\n",
       "      <td>24561</td>\n",
       "    </tr>\n",
       "    <tr>\n",
       "      <th>Portland</th>\n",
       "      <td>11641</td>\n",
       "      <td>11641</td>\n",
       "      <td>11641</td>\n",
       "      <td>11641</td>\n",
       "      <td>11641</td>\n",
       "      <td>11641</td>\n",
       "      <td>11641</td>\n",
       "      <td>11641</td>\n",
       "      <td>11641</td>\n",
       "      <td>11641</td>\n",
       "      <td>11641</td>\n",
       "      <td>11502</td>\n",
       "      <td>11641</td>\n",
       "      <td>11641</td>\n",
       "    </tr>\n",
       "    <tr>\n",
       "      <th>San Francisco</th>\n",
       "      <td>14378</td>\n",
       "      <td>14378</td>\n",
       "      <td>14378</td>\n",
       "      <td>14378</td>\n",
       "      <td>14378</td>\n",
       "      <td>14378</td>\n",
       "      <td>14378</td>\n",
       "      <td>14378</td>\n",
       "      <td>14378</td>\n",
       "      <td>14378</td>\n",
       "      <td>14378</td>\n",
       "      <td>14243</td>\n",
       "      <td>14378</td>\n",
       "      <td>14378</td>\n",
       "    </tr>\n",
       "    <tr>\n",
       "      <th>Seattle</th>\n",
       "      <td>14341</td>\n",
       "      <td>14341</td>\n",
       "      <td>14341</td>\n",
       "      <td>14341</td>\n",
       "      <td>14341</td>\n",
       "      <td>14341</td>\n",
       "      <td>14341</td>\n",
       "      <td>14341</td>\n",
       "      <td>14341</td>\n",
       "      <td>14341</td>\n",
       "      <td>14341</td>\n",
       "      <td>14199</td>\n",
       "      <td>14341</td>\n",
       "      <td>14341</td>\n",
       "    </tr>\n",
       "  </tbody>\n",
       "</table>\n",
       "</div>"
      ],
      "text/plain": [
       "                 ids  versionid  eventdate  lastupdated  artist  venue  \\\n",
       "city                                                                     \n",
       "Austin         18029      18029      18029        18029   18029  18029   \n",
       "Chicago        26527      26527      26527        26527   26527  26527   \n",
       "Denver         12219      12219      12219        12219   12219  12219   \n",
       "Las Vegas       6274       6274       6274         6274    6274   6274   \n",
       "Los Angeles    26283      26283      26283        26283   26283  26283   \n",
       "Nashville      13385      13385      13385        13385   13385  13385   \n",
       "New York       24561      24561      24561        24561   24561  24561   \n",
       "Portland       11641      11641      11641        11641   11641  11641   \n",
       "San Francisco  14378      14378      14378        14378   14378  14378   \n",
       "Seattle        14341      14341      14341        14341   14341  14341   \n",
       "\n",
       "               venue_id  state  stateCode  lat_coords  long_coords   song  \\\n",
       "city                                                                        \n",
       "Austin            18029  18029      18029       18029        18029  17822   \n",
       "Chicago           26527  26527      26527       26527        26527  26349   \n",
       "Denver            12219  12219      12219       12219        12219  12141   \n",
       "Las Vegas          6274   6274       6274        6274         6274   6246   \n",
       "Los Angeles       26283  26283      26283       26283        26283  26031   \n",
       "Nashville         13385  13385      13385       13385        13385  13282   \n",
       "New York          24561  24561      24561       24561        24561  24388   \n",
       "Portland          11641  11641      11641       11641        11641  11502   \n",
       "San Francisco     14378  14378      14378       14378        14378  14243   \n",
       "Seattle           14341  14341      14341       14341        14341  14199   \n",
       "\n",
       "               cover  original_vs_cover  \n",
       "city                                     \n",
       "Austin         18029              18029  \n",
       "Chicago        26527              26527  \n",
       "Denver         12219              12219  \n",
       "Las Vegas       6274               6274  \n",
       "Los Angeles    26283              26283  \n",
       "Nashville      13385              13385  \n",
       "New York       24561              24561  \n",
       "Portland       11641              11641  \n",
       "San Francisco  14378              14378  \n",
       "Seattle        14341              14341  "
      ]
     },
     "execution_count": 55,
     "metadata": {},
     "output_type": "execute_result"
    }
   ],
   "source": [
    "top_10_cities = concat.groupby('city').count()\n",
    "top_10_cities"
   ]
  },
  {
   "cell_type": "code",
   "execution_count": 87,
   "id": "0855a095",
   "metadata": {},
   "outputs": [
    {
     "data": {
      "image/png": "[encoded data removed]",
      "text/plain": [
       "<Figure size 576x396 with 1 Axes>"
      ]
     },
     "metadata": {},
     "output_type": "display_data"
    }
   ],
   "source": [
    "nashville = concat[concat['city']=='Nashville']\n",
    "\n",
    "nashville['original_vs_cover'].value_counts(normalize=True).plot(kind='pie', autopct='%1.0f%%', legend=True, ylabel='',colors=['red','green'], fontsize=15)\n",
    "\n",
    "plt.title('Nashville',fontsize=25)\n",
    "plt.tight_layout()"
   ]
  },
  {
   "cell_type": "code",
   "execution_count": 86,
   "id": "21933f53",
   "metadata": {},
   "outputs": [
    {
     "data": {
      "image/png": "[encoded data removed]",
      "text/plain": [
       "<Figure size 576x396 with 1 Axes>"
      ]
     },
     "metadata": {},
     "output_type": "display_data"
    }
   ],
   "source": [
    "denver = concat[concat['city']=='Denver']\n",
    "\n",
    "denver['original_vs_cover'].value_counts(normalize=True).plot(kind='pie', autopct='%1.0f%%', legend=True, ylabel='',colors=['red','green'], fontsize=15)\n",
    "\n",
    "plt.title('Denver',fontsize=25)\n",
    "plt.tight_layout()"
   ]
  },
  {
   "cell_type": "code",
   "execution_count": 85,
   "id": "452b648c",
   "metadata": {},
   "outputs": [
    {
     "data": {
      "image/png": "[encoded data removed]",
      "text/plain": [
       "<Figure size 576x396 with 1 Axes>"
      ]
     },
     "metadata": {},
     "output_type": "display_data"
    }
   ],
   "source": [
    "seattle = concat[concat['city']=='Seattle']\n",
    "\n",
    "seattle['original_vs_cover'].value_counts(normalize=True).plot(kind='pie', autopct='%1.0f%%', legend=True, ylabel='',colors=['red','green'], fontsize=15)\n",
    "\n",
    "plt.title('Seattle',fontsize=25)\n",
    "plt.tight_layout()"
   ]
  },
  {
   "cell_type": "code",
   "execution_count": 84,
   "id": "3e725099",
   "metadata": {},
   "outputs": [
    {
     "data": {
      "image/png": "[encoded data removed]",
      "text/plain": [
       "<Figure size 576x396 with 1 Axes>"
      ]
     },
     "metadata": {},
     "output_type": "display_data"
    }
   ],
   "source": [
    "portland = concat[concat['city']=='Portland']\n",
    "\n",
    "portland['original_vs_cover'].value_counts(normalize=True).plot(kind='pie', autopct='%1.0f%%', legend=True, ylabel='',colors=['red','green'], fontsize=15)\n",
    "\n",
    "plt.title('Portland',fontsize=25)\n",
    "plt.tight_layout()"
   ]
  },
  {
   "cell_type": "code",
   "execution_count": 83,
   "id": "5a82a229",
   "metadata": {},
   "outputs": [
    {
     "data": {
      "image/png": "[encoded data removed]",
      "text/plain": [
       "<Figure size 576x396 with 1 Axes>"
      ]
     },
     "metadata": {},
     "output_type": "display_data"
    }
   ],
   "source": [
    "las_vegas = concat[concat['city']=='Las Vegas']\n",
    "\n",
    "las_vegas['original_vs_cover'].value_counts(normalize=True).plot(kind='pie', autopct='%1.0f%%', legend=True, ylabel='',colors=['red','green'], fontsize=15)\n",
    "\n",
    "plt.title('Las Vegas',fontsize=25)\n",
    "plt.tight_layout()"
   ]
  },
  {
   "cell_type": "code",
   "execution_count": 82,
   "id": "77d5d475",
   "metadata": {},
   "outputs": [
    {
     "data": {
      "image/png": "[encoded data removed]",
      "text/plain": [
       "<Figure size 576x396 with 1 Axes>"
      ]
     },
     "metadata": {},
     "output_type": "display_data"
    }
   ],
   "source": [
    "los_angeles = concat[concat['city']=='Los Angeles']\n",
    "\n",
    "los_angeles['original_vs_cover'].value_counts(normalize=True).plot(kind='pie',autopct='%1.0f%%', legend=True, ylabel='',colors=['red','green'], fontsize=15)\n",
    "\n",
    "plt.title('Los Angeles',fontsize=25)\n",
    "plt.tight_layout()"
   ]
  },
  {
   "cell_type": "code",
   "execution_count": 81,
   "id": "36cb4448",
   "metadata": {},
   "outputs": [
    {
     "data": {
      "image/png": "[encoded data removed]",
      "text/plain": [
       "<Figure size 576x396 with 1 Axes>"
      ]
     },
     "metadata": {},
     "output_type": "display_data"
    }
   ],
   "source": [
    "austin = concat[concat['city']=='Austin']\n",
    "\n",
    "austin['original_vs_cover'].value_counts(normalize=True).plot(kind='pie', autopct='%1.0f%%', legend=True, ylabel='',colors=['red','green'], fontsize=15)\n",
    "\n",
    "plt.title('Austin',fontsize=25)\n",
    "plt.tight_layout()"
   ]
  },
  {
   "cell_type": "code",
   "execution_count": 80,
   "id": "1487eeeb",
   "metadata": {},
   "outputs": [
    {
     "data": {
      "image/png": "[encoded data removed]",
      "text/plain": [
       "<Figure size 576x396 with 1 Axes>"
      ]
     },
     "metadata": {},
     "output_type": "display_data"
    }
   ],
   "source": [
    "san_francisco = concat[concat['city']=='San Francisco']\n",
    "\n",
    "san_francisco['original_vs_cover'].value_counts(normalize=True).plot(kind='pie', autopct='%1.0f%%', legend=True, ylabel='',colors=['red','green'], fontsize=15)\n",
    "\n",
    "plt.title('San Francisco',fontsize=25)\n",
    "plt.tight_layout()"
   ]
  },
  {
   "cell_type": "code",
   "execution_count": 79,
   "id": "8ce9b9f5",
   "metadata": {},
   "outputs": [
    {
     "data": {
      "image/png": "[encoded data removed]",
      "text/plain": [
       "<Figure size 576x396 with 1 Axes>"
      ]
     },
     "metadata": {},
     "output_type": "display_data"
    }
   ],
   "source": [
    "new_york = concat[concat['city']=='New York']\n",
    "\n",
    "new_york['original_vs_cover'].value_counts(normalize=True).plot(kind='pie', autopct='%1.0f%%', legend=True, ylabel='',colors=['red','green'], fontsize=15)\n",
    "\n",
    "plt.title('New York',fontsize=25)\n",
    "plt.tight_layout()\n",
    "\n"
   ]
  },
  {
   "cell_type": "code",
   "execution_count": 97,
   "id": "dc73f932",
   "metadata": {},
   "outputs": [
    {
     "data": {
      "text/html": [
       "<div>\n",
       "<style scoped>\n",
       "    .dataframe tbody tr th:only-of-type {\n",
       "        vertical-align: middle;\n",
       "    }\n",
       "\n",
       "    .dataframe tbody tr th {\n",
       "        vertical-align: top;\n",
       "    }\n",
       "\n",
       "    .dataframe thead th {\n",
       "        text-align: right;\n",
       "    }\n",
       "</style>\n",
       "<table border=\"1\" class=\"dataframe\">\n",
       "  <thead>\n",
       "    <tr style=\"text-align: right;\">\n",
       "      <th></th>\n",
       "      <th>ids</th>\n",
       "      <th>versionid</th>\n",
       "      <th>eventdate</th>\n",
       "      <th>lastupdated</th>\n",
       "      <th>artist</th>\n",
       "      <th>venue</th>\n",
       "      <th>venue_id</th>\n",
       "      <th>city</th>\n",
       "      <th>state</th>\n",
       "      <th>stateCode</th>\n",
       "      <th>lat_coords</th>\n",
       "      <th>long_coords</th>\n",
       "      <th>song</th>\n",
       "      <th>cover</th>\n",
       "      <th>original_vs_cover</th>\n",
       "    </tr>\n",
       "  </thead>\n",
       "  <tbody>\n",
       "    <tr>\n",
       "      <th>0</th>\n",
       "      <td>63bc928f</td>\n",
       "      <td>g43e24baf</td>\n",
       "      <td>12-12-2022</td>\n",
       "      <td>2022-12-13T19:34:01.209+0000</td>\n",
       "      <td>half•alive</td>\n",
       "      <td>VEVO Studios</td>\n",
       "      <td>7bd49210</td>\n",
       "      <td>New York</td>\n",
       "      <td>New York</td>\n",
       "      <td>NY</td>\n",
       "      <td>40.714269</td>\n",
       "      <td>-74.005973</td>\n",
       "      <td>Did I Make You Up?</td>\n",
       "      <td>original</td>\n",
       "      <td>Original</td>\n",
       "    </tr>\n",
       "    <tr>\n",
       "      <th>1</th>\n",
       "      <td>63bc928f</td>\n",
       "      <td>g43e24baf</td>\n",
       "      <td>12-12-2022</td>\n",
       "      <td>2022-12-13T19:34:01.209+0000</td>\n",
       "      <td>half•alive</td>\n",
       "      <td>VEVO Studios</td>\n",
       "      <td>7bd49210</td>\n",
       "      <td>New York</td>\n",
       "      <td>New York</td>\n",
       "      <td>NY</td>\n",
       "      <td>40.714269</td>\n",
       "      <td>-74.005973</td>\n",
       "      <td>Brighton</td>\n",
       "      <td>original</td>\n",
       "      <td>Original</td>\n",
       "    </tr>\n",
       "    <tr>\n",
       "      <th>2</th>\n",
       "      <td>53bcb7fd</td>\n",
       "      <td>g4be25346</td>\n",
       "      <td>12-12-2022</td>\n",
       "      <td>2022-12-13T04:40:31.354+0000</td>\n",
       "      <td>The Pretty Reckless</td>\n",
       "      <td>Bowery Ballroom</td>\n",
       "      <td>33d61cdd</td>\n",
       "      <td>New York</td>\n",
       "      <td>New York</td>\n",
       "      <td>NY</td>\n",
       "      <td>40.714269</td>\n",
       "      <td>-74.005973</td>\n",
       "      <td>Death by Rock and Roll</td>\n",
       "      <td>original</td>\n",
       "      <td>Original</td>\n",
       "    </tr>\n",
       "    <tr>\n",
       "      <th>3</th>\n",
       "      <td>53bcb7fd</td>\n",
       "      <td>g4be25346</td>\n",
       "      <td>12-12-2022</td>\n",
       "      <td>2022-12-13T04:40:31.354+0000</td>\n",
       "      <td>The Pretty Reckless</td>\n",
       "      <td>Bowery Ballroom</td>\n",
       "      <td>33d61cdd</td>\n",
       "      <td>New York</td>\n",
       "      <td>New York</td>\n",
       "      <td>NY</td>\n",
       "      <td>40.714269</td>\n",
       "      <td>-74.005973</td>\n",
       "      <td>Since You're Gone</td>\n",
       "      <td>original</td>\n",
       "      <td>Original</td>\n",
       "    </tr>\n",
       "    <tr>\n",
       "      <th>4</th>\n",
       "      <td>53bcb7fd</td>\n",
       "      <td>g4be25346</td>\n",
       "      <td>12-12-2022</td>\n",
       "      <td>2022-12-13T04:40:31.354+0000</td>\n",
       "      <td>The Pretty Reckless</td>\n",
       "      <td>Bowery Ballroom</td>\n",
       "      <td>33d61cdd</td>\n",
       "      <td>New York</td>\n",
       "      <td>New York</td>\n",
       "      <td>NY</td>\n",
       "      <td>40.714269</td>\n",
       "      <td>-74.005973</td>\n",
       "      <td>Only Love Can Save Me Now</td>\n",
       "      <td>original</td>\n",
       "      <td>Original</td>\n",
       "    </tr>\n",
       "  </tbody>\n",
       "</table>\n",
       "</div>"
      ],
      "text/plain": [
       "        ids  versionid   eventdate                   lastupdated  \\\n",
       "0  63bc928f  g43e24baf  12-12-2022  2022-12-13T19:34:01.209+0000   \n",
       "1  63bc928f  g43e24baf  12-12-2022  2022-12-13T19:34:01.209+0000   \n",
       "2  53bcb7fd  g4be25346  12-12-2022  2022-12-13T04:40:31.354+0000   \n",
       "3  53bcb7fd  g4be25346  12-12-2022  2022-12-13T04:40:31.354+0000   \n",
       "4  53bcb7fd  g4be25346  12-12-2022  2022-12-13T04:40:31.354+0000   \n",
       "\n",
       "                artist            venue  venue_id      city     state  \\\n",
       "0           half•alive     VEVO Studios  7bd49210  New York  New York   \n",
       "1           half•alive     VEVO Studios  7bd49210  New York  New York   \n",
       "2  The Pretty Reckless  Bowery Ballroom  33d61cdd  New York  New York   \n",
       "3  The Pretty Reckless  Bowery Ballroom  33d61cdd  New York  New York   \n",
       "4  The Pretty Reckless  Bowery Ballroom  33d61cdd  New York  New York   \n",
       "\n",
       "  stateCode  lat_coords  long_coords                       song     cover  \\\n",
       "0        NY   40.714269   -74.005973         Did I Make You Up?  original   \n",
       "1        NY   40.714269   -74.005973                   Brighton  original   \n",
       "2        NY   40.714269   -74.005973     Death by Rock and Roll  original   \n",
       "3        NY   40.714269   -74.005973          Since You're Gone  original   \n",
       "4        NY   40.714269   -74.005973  Only Love Can Save Me Now  original   \n",
       "\n",
       "  original_vs_cover  \n",
       "0          Original  \n",
       "1          Original  \n",
       "2          Original  \n",
       "3          Original  \n",
       "4          Original  "
      ]
     },
     "execution_count": 97,
     "metadata": {},
     "output_type": "execute_result"
    }
   ],
   "source": [
    "originals = concat[concat['original_vs_cover']=='Original']\n",
    "originals.head()"
   ]
  },
  {
   "cell_type": "code",
   "execution_count": 98,
   "id": "86fe5f3c",
   "metadata": {},
   "outputs": [
    {
     "data": {
      "text/html": [
       "<div>\n",
       "<style scoped>\n",
       "    .dataframe tbody tr th:only-of-type {\n",
       "        vertical-align: middle;\n",
       "    }\n",
       "\n",
       "    .dataframe tbody tr th {\n",
       "        vertical-align: top;\n",
       "    }\n",
       "\n",
       "    .dataframe thead th {\n",
       "        text-align: right;\n",
       "    }\n",
       "</style>\n",
       "<table border=\"1\" class=\"dataframe\">\n",
       "  <thead>\n",
       "    <tr style=\"text-align: right;\">\n",
       "      <th></th>\n",
       "      <th>ids</th>\n",
       "      <th>versionid</th>\n",
       "      <th>eventdate</th>\n",
       "      <th>lastupdated</th>\n",
       "      <th>artist</th>\n",
       "      <th>venue</th>\n",
       "      <th>venue_id</th>\n",
       "      <th>city</th>\n",
       "      <th>state</th>\n",
       "      <th>stateCode</th>\n",
       "      <th>lat_coords</th>\n",
       "      <th>long_coords</th>\n",
       "      <th>song</th>\n",
       "      <th>cover</th>\n",
       "      <th>original_vs_cover</th>\n",
       "    </tr>\n",
       "  </thead>\n",
       "  <tbody>\n",
       "    <tr>\n",
       "      <th>5</th>\n",
       "      <td>53bcb7fd</td>\n",
       "      <td>g4be25346</td>\n",
       "      <td>12-12-2022</td>\n",
       "      <td>2022-12-13T04:40:31.354+0000</td>\n",
       "      <td>The Pretty Reckless</td>\n",
       "      <td>Bowery Ballroom</td>\n",
       "      <td>33d61cdd</td>\n",
       "      <td>New York</td>\n",
       "      <td>New York</td>\n",
       "      <td>NY</td>\n",
       "      <td>40.714269</td>\n",
       "      <td>-74.005973</td>\n",
       "      <td>Loud Love</td>\n",
       "      <td>Soundgarden</td>\n",
       "      <td>Cover</td>\n",
       "    </tr>\n",
       "    <tr>\n",
       "      <th>19</th>\n",
       "      <td>43bcb7f3</td>\n",
       "      <td>g4be2535e</td>\n",
       "      <td>12-12-2022</td>\n",
       "      <td>2022-12-13T04:37:58.131+0000</td>\n",
       "      <td>Nick Perri &amp; the Underground Thieves</td>\n",
       "      <td>Bowery Ballroom</td>\n",
       "      <td>33d61cdd</td>\n",
       "      <td>New York</td>\n",
       "      <td>New York</td>\n",
       "      <td>NY</td>\n",
       "      <td>40.714269</td>\n",
       "      <td>-74.005973</td>\n",
       "      <td>My My, Hey Hey (Out of the Blue)</td>\n",
       "      <td>Neil Young &amp; Crazy Horse</td>\n",
       "      <td>Cover</td>\n",
       "    </tr>\n",
       "    <tr>\n",
       "      <th>26</th>\n",
       "      <td>7bbf429c</td>\n",
       "      <td>g5be25364</td>\n",
       "      <td>11-12-2022</td>\n",
       "      <td>2022-12-13T04:36:40.039+0000</td>\n",
       "      <td>Nick Perri &amp; the Underground Thieves</td>\n",
       "      <td>Bowery Ballroom</td>\n",
       "      <td>33d61cdd</td>\n",
       "      <td>New York</td>\n",
       "      <td>New York</td>\n",
       "      <td>NY</td>\n",
       "      <td>40.714269</td>\n",
       "      <td>-74.005973</td>\n",
       "      <td>My My, Hey Hey (Out of the Blue)</td>\n",
       "      <td>Neil Young &amp; Crazy Horse</td>\n",
       "      <td>Cover</td>\n",
       "    </tr>\n",
       "    <tr>\n",
       "      <th>47</th>\n",
       "      <td>3bbcb8ac</td>\n",
       "      <td>g73e262f1</td>\n",
       "      <td>11-12-2022</td>\n",
       "      <td>2022-12-12T14:52:50.396+0000</td>\n",
       "      <td>Bad Omens</td>\n",
       "      <td>Irving Plaza</td>\n",
       "      <td>4bd61f3e</td>\n",
       "      <td>New York</td>\n",
       "      <td>New York</td>\n",
       "      <td>NY</td>\n",
       "      <td>40.714269</td>\n",
       "      <td>-74.005973</td>\n",
       "      <td>Sympathy</td>\n",
       "      <td>Too Close to Touch</td>\n",
       "      <td>Cover</td>\n",
       "    </tr>\n",
       "    <tr>\n",
       "      <th>69</th>\n",
       "      <td>2bbcb8a6</td>\n",
       "      <td>g3be2685c</td>\n",
       "      <td>11-12-2022</td>\n",
       "      <td>2022-12-12T01:45:08.340+0000</td>\n",
       "      <td>Make Them Suffer</td>\n",
       "      <td>Irving Plaza</td>\n",
       "      <td>4bd61f3e</td>\n",
       "      <td>New York</td>\n",
       "      <td>New York</td>\n",
       "      <td>NY</td>\n",
       "      <td>40.714269</td>\n",
       "      <td>-74.005973</td>\n",
       "      <td>Sandstorm</td>\n",
       "      <td>Darude</td>\n",
       "      <td>Cover</td>\n",
       "    </tr>\n",
       "  </tbody>\n",
       "</table>\n",
       "</div>"
      ],
      "text/plain": [
       "         ids  versionid   eventdate                   lastupdated  \\\n",
       "5   53bcb7fd  g4be25346  12-12-2022  2022-12-13T04:40:31.354+0000   \n",
       "19  43bcb7f3  g4be2535e  12-12-2022  2022-12-13T04:37:58.131+0000   \n",
       "26  7bbf429c  g5be25364  11-12-2022  2022-12-13T04:36:40.039+0000   \n",
       "47  3bbcb8ac  g73e262f1  11-12-2022  2022-12-12T14:52:50.396+0000   \n",
       "69  2bbcb8a6  g3be2685c  11-12-2022  2022-12-12T01:45:08.340+0000   \n",
       "\n",
       "                                  artist            venue  venue_id      city  \\\n",
       "5                    The Pretty Reckless  Bowery Ballroom  33d61cdd  New York   \n",
       "19  Nick Perri & the Underground Thieves  Bowery Ballroom  33d61cdd  New York   \n",
       "26  Nick Perri & the Underground Thieves  Bowery Ballroom  33d61cdd  New York   \n",
       "47                             Bad Omens     Irving Plaza  4bd61f3e  New York   \n",
       "69                      Make Them Suffer     Irving Plaza  4bd61f3e  New York   \n",
       "\n",
       "       state stateCode  lat_coords  long_coords  \\\n",
       "5   New York        NY   40.714269   -74.005973   \n",
       "19  New York        NY   40.714269   -74.005973   \n",
       "26  New York        NY   40.714269   -74.005973   \n",
       "47  New York        NY   40.714269   -74.005973   \n",
       "69  New York        NY   40.714269   -74.005973   \n",
       "\n",
       "                                song                     cover  \\\n",
       "5                          Loud Love               Soundgarden   \n",
       "19  My My, Hey Hey (Out of the Blue)  Neil Young & Crazy Horse   \n",
       "26  My My, Hey Hey (Out of the Blue)  Neil Young & Crazy Horse   \n",
       "47                          Sympathy        Too Close to Touch   \n",
       "69                         Sandstorm                    Darude   \n",
       "\n",
       "   original_vs_cover  \n",
       "5              Cover  \n",
       "19             Cover  \n",
       "26             Cover  \n",
       "47             Cover  \n",
       "69             Cover  "
      ]
     },
     "execution_count": 98,
     "metadata": {},
     "output_type": "execute_result"
    }
   ],
   "source": [
    "covers = concat[concat['original_vs_cover']=='Cover']\n",
    "covers.head()"
   ]
  },
  {
   "cell_type": "code",
   "execution_count": 102,
   "id": "3e3942e6",
   "metadata": {},
   "outputs": [
    {
     "data": {
      "image/png": "[encoded data removed]",
      "text/plain": [
       "<Figure size 576x396 with 1 Axes>"
      ]
     },
     "metadata": {},
     "output_type": "display_data"
    }
   ],
   "source": [
    "concat['original_vs_cover'].value_counts(normalize=True).plot(kind='pie', autopct='%1.0f%%', legend=True, ylabel='',colors=['red','green'], fontsize=15)\n",
    "\n",
    "plt.title('Overall',fontsize=25)\n",
    "plt.tight_layout()\n",
    "                        "
   ]
  },
  {
   "cell_type": "code",
   "execution_count": 108,
   "id": "d7d100de",
   "metadata": {},
   "outputs": [
    {
     "data": {
      "text/plain": [
       "Text(0.5, 1.0, 'Top 10 Covered Artists')"
      ]
     },
     "execution_count": 108,
     "metadata": {},
     "output_type": "execute_result"
    },
    {
     "data": {
      "image/png": "[encoded data removed]",
      "text/plain": [
       "<Figure size 576x396 with 1 Axes>"
      ]
     },
     "metadata": {},
     "output_type": "display_data"
    }
   ],
   "source": [
    "covers['cover'].value_counts().nlargest(10).sort_values(ascending=True).plot(kind='barh', xlabel='', legend=False, ylabel='', fontsize=15)\n",
    "\n",
    "plt.title('Top 10 Covered Artists',fontsize=25)"
   ]
  },
  {
   "cell_type": "code",
   "execution_count": 106,
   "id": "ebd0d4eb",
   "metadata": {},
   "outputs": [
    {
     "data": {
      "text/plain": [
       "Text(0.5, 1.0, 'Top 10 Covered Songs')"
      ]
     },
     "execution_count": 106,
     "metadata": {},
     "output_type": "execute_result"
    },
    {
     "data": {
      "image/png": "[encoded data removed]",
      "text/plain": [
       "<Figure size 576x396 with 1 Axes>"
      ]
     },
     "metadata": {},
     "output_type": "display_data"
    }
   ],
   "source": [
    "covers['song'].value_counts().nlargest(10).sort_values(ascending=True).plot(kind='barh', xlabel='', legend=False, ylabel='', fontsize=15)\n",
    "\n",
    "plt.title('Top 10 Covered Songs',fontsize=25)"
   ]
  },
  {
   "cell_type": "code",
   "execution_count": null,
   "id": "7fc9cf2a",
   "metadata": {},
   "outputs": [],
   "source": []
  }
 ],
 "metadata": {
  "kernelspec": {
   "display_name": "Python 3 (ipykernel)",
   "language": "python",
   "name": "python3"
  },
  "language_info": {
   "codemirror_mode": {
    "name": "ipython",
    "version": 3
   },
   "file_extension": ".py",
   "mimetype": "text/x-python",
   "name": "python",
   "nbconvert_exporter": "python",
   "pygments_lexer": "ipython3",
   "version": "3.9.12"
  }
 },
 "nbformat": 4,
 "nbformat_minor": 5
}
